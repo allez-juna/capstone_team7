{
 "cells": [
  {
   "cell_type": "code",
   "execution_count": 1,
   "source": [
    "import pandas as pd\r\n",
    "import openpyxl"
   ],
   "outputs": [],
   "metadata": {}
  },
  {
   "cell_type": "code",
   "execution_count": 2,
   "source": [
    "path = r\"C:\\Users\\leeju\\Documents\\GitHub\\capstone_team7\\data\\X\""
   ],
   "outputs": [],
   "metadata": {}
  },
  {
   "cell_type": "code",
   "execution_count": 4,
   "source": [
    "# 서울특별시교육청(http://www.sen.go.kr/)\r\n",
    "# 정보공개>서울교육통계>연도별 학교현황\r\n",
    "# 게시글 제목: %학교 일람표\r\n",
    "# - 서울시 학교별 기본 현황 자료(학급수, 학생수, 교원수) 제공\r\n",
    "filename=\"20200401기준_학교일람표.xlsx\""
   ],
   "outputs": [],
   "metadata": {}
  },
  {
   "cell_type": "code",
   "execution_count": 5,
   "source": [
    "wb = openpyxl.load_workbook(path+\"\\\\\"+filename)"
   ],
   "outputs": [],
   "metadata": {}
  },
  {
   "cell_type": "code",
   "execution_count": 6,
   "source": [
    "# sheetname 확인\r\n",
    "wb.sheetnames"
   ],
   "outputs": [
    {
     "output_type": "execute_result",
     "data": {
      "text/plain": [
       "['정오표',\n",
       " '유치원',\n",
       " '초등학교',\n",
       " '중학교',\n",
       " '고등학교',\n",
       " '특수학교',\n",
       " '각종학교',\n",
       " '고등기술학교',\n",
       " '방송통신중',\n",
       " '방송통신고']"
      ]
     },
     "metadata": {},
     "execution_count": 6
    }
   ],
   "metadata": {}
  },
  {
   "cell_type": "code",
   "execution_count": 7,
   "source": [
    "df = pd.read_excel(path+\"\\\\\"+filename, sheet_name=\"초등학교\")"
   ],
   "outputs": [],
   "metadata": {}
  },
  {
   "cell_type": "code",
   "execution_count": 8,
   "source": [
    "# 컬럼명 재지정 위함\r\n",
    "col_list = [\"kk\",\"소재구\",\"학교명\",\"설립\",\"kk\",\"kk\",\"주소\",\"kk\" #전화번호까지\r\n",
    "            ,\"kk\",\"kk\",\"kk\",\"kk\",\"kk\",\"kk\",\"kk\",\"kk\",\"kk\" # 학급수\r\n",
    "            ,\"1학년\",\"kk\",\"2학년\",\"kk\",\"3학년\",\"kk\",\"4학년\",\"kk\",\"5학년\",\"kk\",\"6학년\",\"kk\",\"kk\",\"kk\",\"kk\",\"kk\",\"kk\",\"kk\" #학생수\r\n",
    "            ,\"학급당평균학생수\"\r\n",
    "            ,\"교원수\",\"kk\",\"kk\",\"kk\",\"kk\",\"kk\" #교원수\r\n",
    "            ,\"kk\",\"kk\",\"kk\",\"kk\",\"kk\",\"kk\" #직원수\r\n",
    "            ,\"교실수\"]"
   ],
   "outputs": [],
   "metadata": {}
  },
  {
   "cell_type": "code",
   "execution_count": 9,
   "source": [
    "df.columns = col_list"
   ],
   "outputs": [],
   "metadata": {
    "scrolled": true
   }
  },
  {
   "cell_type": "code",
   "execution_count": 10,
   "source": [
    "# 불필요한 row 삭제\r\n",
    "df = df.drop(index=[0,1,2,3,611,612,613,614],axis=0) #axis=0 : row"
   ],
   "outputs": [],
   "metadata": {}
  },
  {
   "cell_type": "code",
   "execution_count": 11,
   "source": [
    "# 필요한 컬럼만 남기기\r\n",
    "# df=df[[\"소재구\",\"학교명\",\"주소\",\"1학년\",\"2학년\",\"3학년\",\"4학년\",\"5학년\",\"6학년\",\"학급당평균학생수\",\"교원수\",\"교실수\"]]\r\n",
    "df=df[[\"학교명\",\"설립\",\"소재구\",\"1학년\",\"2학년\",\"3학년\",\"4학년\",\"5학년\",\"6학년\",\"학급당평균학생수\",\"주소\"]]"
   ],
   "outputs": [],
   "metadata": {}
  },
  {
   "cell_type": "code",
   "execution_count": 12,
   "source": [
    "df"
   ],
   "outputs": [
    {
     "output_type": "execute_result",
     "data": {
      "text/plain": [
       "                 학교명  설립  소재구  1학년  2학년  3학년  4학년  5학년  6학년   학급당평균학생수  \\\n",
       "4    상명대학교사범대학부속초등학교  사립  종로구   61   58   48   46   46   30  24.083333   \n",
       "5           서울교동초등학교  공립  종로구   21   39   33   34   29   21         15   \n",
       "6    서울대학교사범대학부설초등학교  국립  종로구   99  103  104  104  103  107  20.225806   \n",
       "7          서울독립문초등학교  공립  종로구   82   82   86   73   93   75  19.076923   \n",
       "8           서울매동초등학교  공립  종로구   26   42   27   46   22   46  14.466667   \n",
       "..               ...  ..  ...  ...  ...  ...  ...  ...  ...        ...   \n",
       "606         서울위례초등학교  공립  강동구    0    0    0    0    0    0          0   \n",
       "607         서울천동초등학교  공립  강동구  136  157  127  143  141  102      20.45   \n",
       "608         서울천일초등학교  공립  강동구   41   57   54   60   40   72  17.368421   \n",
       "609         서울천호초등학교  공립  강동구  115  116  125  116  115  102  18.342105   \n",
       "610         서울한산초등학교  공립  강동구  139  132  126  138  128  134  21.756757   \n",
       "\n",
       "                                              주소  \n",
       "4    서울특별시 종로구 홍지문2길 1 . 상명사대부속초등학교 (홍지동.상명초등학교)  \n",
       "5                       서울특별시 종로구 삼일대로 446 (경운동)  \n",
       "6          서울특별시 종로구 대학로 64 서울대학교사범대학부설초등학교(이화동)  \n",
       "7             서울특별시 종로구 통일로12길 23 (무악동. 독립문초등학교)  \n",
       "8            서울특별시 종로구 사직로9길 19 . 서울매동초등학교 (필운동)  \n",
       "..                                           ...  \n",
       "606                       서울특별시 강동구 명일로 23 (둔촌동)  \n",
       "607            서울특별시 강동구 성안로 200 . 서울천동초등학교 (길동)  \n",
       "608          서울특별시 강동구 구천면로 266 . 서울천일초등학교 (천호동)  \n",
       "609         서울특별시 강동구 구천면로 310-11 (천호동.서울천호초등학교)  \n",
       "610            서울특별시 강동구 풍성로 261 (서울한산초등학교. 둔촌동)  \n",
       "\n",
       "[607 rows x 11 columns]"
      ],
      "text/html": [
       "<div>\n",
       "<style scoped>\n",
       "    .dataframe tbody tr th:only-of-type {\n",
       "        vertical-align: middle;\n",
       "    }\n",
       "\n",
       "    .dataframe tbody tr th {\n",
       "        vertical-align: top;\n",
       "    }\n",
       "\n",
       "    .dataframe thead th {\n",
       "        text-align: right;\n",
       "    }\n",
       "</style>\n",
       "<table border=\"1\" class=\"dataframe\">\n",
       "  <thead>\n",
       "    <tr style=\"text-align: right;\">\n",
       "      <th></th>\n",
       "      <th>학교명</th>\n",
       "      <th>설립</th>\n",
       "      <th>소재구</th>\n",
       "      <th>1학년</th>\n",
       "      <th>2학년</th>\n",
       "      <th>3학년</th>\n",
       "      <th>4학년</th>\n",
       "      <th>5학년</th>\n",
       "      <th>6학년</th>\n",
       "      <th>학급당평균학생수</th>\n",
       "      <th>주소</th>\n",
       "    </tr>\n",
       "  </thead>\n",
       "  <tbody>\n",
       "    <tr>\n",
       "      <th>4</th>\n",
       "      <td>상명대학교사범대학부속초등학교</td>\n",
       "      <td>사립</td>\n",
       "      <td>종로구</td>\n",
       "      <td>61</td>\n",
       "      <td>58</td>\n",
       "      <td>48</td>\n",
       "      <td>46</td>\n",
       "      <td>46</td>\n",
       "      <td>30</td>\n",
       "      <td>24.083333</td>\n",
       "      <td>서울특별시 종로구 홍지문2길 1 . 상명사대부속초등학교 (홍지동.상명초등학교)</td>\n",
       "    </tr>\n",
       "    <tr>\n",
       "      <th>5</th>\n",
       "      <td>서울교동초등학교</td>\n",
       "      <td>공립</td>\n",
       "      <td>종로구</td>\n",
       "      <td>21</td>\n",
       "      <td>39</td>\n",
       "      <td>33</td>\n",
       "      <td>34</td>\n",
       "      <td>29</td>\n",
       "      <td>21</td>\n",
       "      <td>15</td>\n",
       "      <td>서울특별시 종로구 삼일대로 446 (경운동)</td>\n",
       "    </tr>\n",
       "    <tr>\n",
       "      <th>6</th>\n",
       "      <td>서울대학교사범대학부설초등학교</td>\n",
       "      <td>국립</td>\n",
       "      <td>종로구</td>\n",
       "      <td>99</td>\n",
       "      <td>103</td>\n",
       "      <td>104</td>\n",
       "      <td>104</td>\n",
       "      <td>103</td>\n",
       "      <td>107</td>\n",
       "      <td>20.225806</td>\n",
       "      <td>서울특별시 종로구 대학로 64 서울대학교사범대학부설초등학교(이화동)</td>\n",
       "    </tr>\n",
       "    <tr>\n",
       "      <th>7</th>\n",
       "      <td>서울독립문초등학교</td>\n",
       "      <td>공립</td>\n",
       "      <td>종로구</td>\n",
       "      <td>82</td>\n",
       "      <td>82</td>\n",
       "      <td>86</td>\n",
       "      <td>73</td>\n",
       "      <td>93</td>\n",
       "      <td>75</td>\n",
       "      <td>19.076923</td>\n",
       "      <td>서울특별시 종로구 통일로12길 23 (무악동. 독립문초등학교)</td>\n",
       "    </tr>\n",
       "    <tr>\n",
       "      <th>8</th>\n",
       "      <td>서울매동초등학교</td>\n",
       "      <td>공립</td>\n",
       "      <td>종로구</td>\n",
       "      <td>26</td>\n",
       "      <td>42</td>\n",
       "      <td>27</td>\n",
       "      <td>46</td>\n",
       "      <td>22</td>\n",
       "      <td>46</td>\n",
       "      <td>14.466667</td>\n",
       "      <td>서울특별시 종로구 사직로9길 19 . 서울매동초등학교 (필운동)</td>\n",
       "    </tr>\n",
       "    <tr>\n",
       "      <th>...</th>\n",
       "      <td>...</td>\n",
       "      <td>...</td>\n",
       "      <td>...</td>\n",
       "      <td>...</td>\n",
       "      <td>...</td>\n",
       "      <td>...</td>\n",
       "      <td>...</td>\n",
       "      <td>...</td>\n",
       "      <td>...</td>\n",
       "      <td>...</td>\n",
       "      <td>...</td>\n",
       "    </tr>\n",
       "    <tr>\n",
       "      <th>606</th>\n",
       "      <td>서울위례초등학교</td>\n",
       "      <td>공립</td>\n",
       "      <td>강동구</td>\n",
       "      <td>0</td>\n",
       "      <td>0</td>\n",
       "      <td>0</td>\n",
       "      <td>0</td>\n",
       "      <td>0</td>\n",
       "      <td>0</td>\n",
       "      <td>0</td>\n",
       "      <td>서울특별시 강동구 명일로 23 (둔촌동)</td>\n",
       "    </tr>\n",
       "    <tr>\n",
       "      <th>607</th>\n",
       "      <td>서울천동초등학교</td>\n",
       "      <td>공립</td>\n",
       "      <td>강동구</td>\n",
       "      <td>136</td>\n",
       "      <td>157</td>\n",
       "      <td>127</td>\n",
       "      <td>143</td>\n",
       "      <td>141</td>\n",
       "      <td>102</td>\n",
       "      <td>20.45</td>\n",
       "      <td>서울특별시 강동구 성안로 200 . 서울천동초등학교 (길동)</td>\n",
       "    </tr>\n",
       "    <tr>\n",
       "      <th>608</th>\n",
       "      <td>서울천일초등학교</td>\n",
       "      <td>공립</td>\n",
       "      <td>강동구</td>\n",
       "      <td>41</td>\n",
       "      <td>57</td>\n",
       "      <td>54</td>\n",
       "      <td>60</td>\n",
       "      <td>40</td>\n",
       "      <td>72</td>\n",
       "      <td>17.368421</td>\n",
       "      <td>서울특별시 강동구 구천면로 266 . 서울천일초등학교 (천호동)</td>\n",
       "    </tr>\n",
       "    <tr>\n",
       "      <th>609</th>\n",
       "      <td>서울천호초등학교</td>\n",
       "      <td>공립</td>\n",
       "      <td>강동구</td>\n",
       "      <td>115</td>\n",
       "      <td>116</td>\n",
       "      <td>125</td>\n",
       "      <td>116</td>\n",
       "      <td>115</td>\n",
       "      <td>102</td>\n",
       "      <td>18.342105</td>\n",
       "      <td>서울특별시 강동구 구천면로 310-11 (천호동.서울천호초등학교)</td>\n",
       "    </tr>\n",
       "    <tr>\n",
       "      <th>610</th>\n",
       "      <td>서울한산초등학교</td>\n",
       "      <td>공립</td>\n",
       "      <td>강동구</td>\n",
       "      <td>139</td>\n",
       "      <td>132</td>\n",
       "      <td>126</td>\n",
       "      <td>138</td>\n",
       "      <td>128</td>\n",
       "      <td>134</td>\n",
       "      <td>21.756757</td>\n",
       "      <td>서울특별시 강동구 풍성로 261 (서울한산초등학교. 둔촌동)</td>\n",
       "    </tr>\n",
       "  </tbody>\n",
       "</table>\n",
       "<p>607 rows × 11 columns</p>\n",
       "</div>"
      ]
     },
     "metadata": {},
     "execution_count": 12
    }
   ],
   "metadata": {
    "collapsed": true
   }
  },
  {
   "cell_type": "code",
   "execution_count": 13,
   "source": [
    "# 데이터 타입 변환(str->numeric)\r\n",
    "df[[\"1학년\",\"2학년\",\"3학년\",\"4학년\",\"5학년\",\"6학년\",\"학급당평균학생수\"]] = df[[\"1학년\",\"2학년\",\"3학년\",\"4학년\",\"5학년\",\"6학년\",\"학급당평균학생수\"]].apply(pd.to_numeric)"
   ],
   "outputs": [],
   "metadata": {}
  },
  {
   "cell_type": "code",
   "execution_count": 14,
   "source": [
    "df.설립.value_counts()"
   ],
   "outputs": [
    {
     "output_type": "execute_result",
     "data": {
      "text/plain": [
       "공립    566\n",
       "사립     39\n",
       "국립      2\n",
       "Name: 설립, dtype: int64"
      ]
     },
     "metadata": {},
     "execution_count": 14
    }
   ],
   "metadata": {
    "scrolled": true
   }
  },
  {
   "cell_type": "code",
   "execution_count": 15,
   "source": [
    "# 전학이 자유로운 공립학교만 남김\r\n",
    "df = df[df.설립=='공립']\r\n",
    "\r\n",
    "# 새로 지어진 학교는 제외\r\n",
    "df = df[df['1학년']!=0]"
   ],
   "outputs": [],
   "metadata": {}
  },
  {
   "cell_type": "code",
   "execution_count": 16,
   "source": [
    "# reset index\r\n",
    "df.reset_index(drop=True, inplace=True)"
   ],
   "outputs": [],
   "metadata": {}
  },
  {
   "cell_type": "code",
   "execution_count": 17,
   "source": [
    "df.info()"
   ],
   "outputs": [
    {
     "output_type": "stream",
     "name": "stdout",
     "text": [
      "<class 'pandas.core.frame.DataFrame'>\n",
      "RangeIndex: 562 entries, 0 to 561\n",
      "Data columns (total 11 columns):\n",
      " #   Column    Non-Null Count  Dtype  \n",
      "---  ------    --------------  -----  \n",
      " 0   학교명       562 non-null    object \n",
      " 1   설립        562 non-null    object \n",
      " 2   소재구       562 non-null    object \n",
      " 3   1학년       562 non-null    int64  \n",
      " 4   2학년       562 non-null    int64  \n",
      " 5   3학년       562 non-null    int64  \n",
      " 6   4학년       562 non-null    int64  \n",
      " 7   5학년       562 non-null    int64  \n",
      " 8   6학년       562 non-null    int64  \n",
      " 9   학급당평균학생수  562 non-null    float64\n",
      " 10  주소        562 non-null    object \n",
      "dtypes: float64(1), int64(6), object(4)\n",
      "memory usage: 48.4+ KB\n"
     ]
    }
   ],
   "metadata": {}
  },
  {
   "cell_type": "code",
   "execution_count": 18,
   "source": [
    "df['전교생'] = df['1학년']+df['2학년']+df['3학년']+df['4학년']+df['5학년']+df['6학년']"
   ],
   "outputs": [],
   "metadata": {}
  },
  {
   "cell_type": "code",
   "execution_count": 19,
   "source": [
    "df['1학년비율'] = round(df['1학년']/df['전교생']*100,3)\r\n",
    "df['2학년비율'] = round(df['2학년']/df['전교생']*100,3)\r\n",
    "df['3학년비율'] = round(df['3학년']/df['전교생']*100,3)\r\n",
    "df['4학년비율'] = round(df['4학년']/df['전교생']*100,3)\r\n",
    "df['5학년비율'] = round(df['5학년']/df['전교생']*100,3)\r\n",
    "df['6학년비율'] = round(df['6학년']/df['전교생']*100,3)"
   ],
   "outputs": [],
   "metadata": {}
  },
  {
   "cell_type": "code",
   "execution_count": 20,
   "source": [
    "# 4월1일 기준이니까. 학년초 전입전출 끝났다고 보고. 좋은 학군이어서 중학교 배정 잘 받으려고 전학 온 아이들 많은지 보는 건\r\n",
    "# 1학년 6학년 학생수 비율로 비교해서 그 차이값 만큼 점수를 가져가자\r\n",
    "# 16.667 보다 많은 비율 가지고 있는 학교에 한해서 점수를 주는 방법도 고민했었는데. 그냥 1,6학년 비율 비교하는게 심플하여 이처럼 결정.\r\n",
    "df['6학년비율점수']= df['6학년비율'] - df['1학년비율']\r\n",
    "#df['학생수비율점수1']= df['6학년비율'] - df['1학년비율']\r\n",
    "#df['학생수비율점수2']= round((df['6학년'] - df['5학년']) / df['6학년']*100,3)"
   ],
   "outputs": [],
   "metadata": {}
  },
  {
   "cell_type": "code",
   "execution_count": 16,
   "source": [],
   "outputs": [],
   "metadata": {}
  },
  {
   "cell_type": "code",
   "execution_count": 17,
   "source": [],
   "outputs": [],
   "metadata": {}
  },
  {
   "cell_type": "code",
   "execution_count": 20,
   "source": [],
   "outputs": [],
   "metadata": {}
  }
 ],
 "metadata": {
  "kernelspec": {
   "name": "python3",
   "display_name": "Python 3.8.8 64-bit ('base': conda)"
  },
  "language_info": {
   "codemirror_mode": {
    "name": "ipython",
    "version": 3
   },
   "file_extension": ".py",
   "mimetype": "text/x-python",
   "name": "python",
   "nbconvert_exporter": "python",
   "pygments_lexer": "ipython3",
   "version": "3.8.8"
  },
  "toc": {
   "base_numbering": 1,
   "nav_menu": {},
   "number_sections": true,
   "sideBar": true,
   "skip_h1_title": false,
   "title_cell": "Table of Contents",
   "title_sidebar": "Contents",
   "toc_cell": false,
   "toc_position": {},
   "toc_section_display": true,
   "toc_window_display": false
  },
  "varInspector": {
   "cols": {
    "lenName": 16,
    "lenType": 16,
    "lenVar": 40
   },
   "kernels_config": {
    "python": {
     "delete_cmd_postfix": "",
     "delete_cmd_prefix": "del ",
     "library": "var_list.py",
     "varRefreshCmd": "print(var_dic_list())"
    },
    "r": {
     "delete_cmd_postfix": ") ",
     "delete_cmd_prefix": "rm(",
     "library": "var_list.r",
     "varRefreshCmd": "cat(var_dic_list()) "
    }
   },
   "types_to_exclude": [
    "module",
    "function",
    "builtin_function_or_method",
    "instance",
    "_Feature"
   ],
   "window_display": false
  },
  "interpreter": {
   "hash": "b3ba2566441a7c06988d0923437866b63cedc61552a5af99d1f4fb67d367b25f"
  }
 },
 "nbformat": 4,
 "nbformat_minor": 4
}