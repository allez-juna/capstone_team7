{
 "cells": [
  {
   "cell_type": "code",
   "execution_count": 1,
   "source": [
    "import pandas as pd\r\n",
    "import numpy as np\r\n",
    "import openpyxl\r\n",
    "import os\r\n",
    "from datetime import datetime\r\n"
   ],
   "outputs": [],
   "metadata": {}
  },
  {
   "cell_type": "code",
   "execution_count": null,
   "source": [
    "pathX = os.getcwd()+\"\\data\\X\"\r\n",
    "pathY = os.getcwd()+\"\\data\\Y\"\r\n",
    "file_list_all = os.listdir(pathY)"
   ],
   "outputs": [],
   "metadata": {}
  },
  {
   "cell_type": "code",
   "execution_count": null,
   "source": [
    "# 파일명 및 파일 확장자 지정\r\n",
    "file_list = []\r\n",
    "\r\n",
    "for file in file_list_all:\r\n",
    "    if file.startswith(\"연립다세대(매매)\") & file.endswith(\".xlsx\"):\r\n",
    "        print(file)\r\n",
    "        file_list.append(file)"
   ],
   "outputs": [],
   "metadata": {}
  },
  {
   "cell_type": "code",
   "execution_count": null,
   "source": [
    "df = pd.DataFrame()\r\n",
    "\r\n",
    "for file in file_list:\r\n",
    "    print(file)\r\n",
    "    data = pd.read_excel(pathY+\"\\\\\"+file, header=0, skiprows=16)\r\n",
    "    df = pd.concat([df,data])"
   ],
   "outputs": [],
   "metadata": {}
  },
  {
   "cell_type": "code",
   "execution_count": null,
   "source": [
    "# row 수 확인\r\n",
    "print('row count = {}'.format(len(df)))\r\n",
    "\r\n",
    "# data 확인\r\n",
    "print(df.head(5))"
   ],
   "outputs": [],
   "metadata": {}
  },
  {
   "cell_type": "code",
   "execution_count": null,
   "source": [
    "# dataframe column data type 확인\r\n",
    "#df.dtypes\r\n",
    "\r\n",
    "# dataframe 대략적인 정보 확인\r\n",
    "#df.info()\r\n",
    "\r\n",
    "# 건축년도 nan 데이터 처리(서울특별시 성북구 길음동 1083) -> 0 으로 치환, 데이터 타입 변환 int\r\n",
    "#df[df.건축년도.isna()]\r\n",
    "\r\n",
    "df['건축년도'] = df['건축년도'].fillna(0).astype(int)\r\n",
    "\r\n",
    "print(df[(df.번지=='1083')])"
   ],
   "outputs": [],
   "metadata": {}
  },
  {
   "cell_type": "code",
   "execution_count": 30,
   "source": [
    "# '거래금액(만원)' 쉼표 제거 및 데이터 타입 변환(numeric)\r\n",
    "# '거래금액(만원)' 단위 만원 -> 원 으로 변경\r\n",
    "#df['거래금액(만원)']\r\n",
    "df['거래금액(만원)'] = pd.to_numeric(df['거래금액(만원)'].apply(lambda x: x.replace(',', '')))\r\n",
    "df['거래금액(만원)'] = df['거래금액(만원)'] * 10000"
   ],
   "outputs": [],
   "metadata": {}
  },
  {
   "cell_type": "code",
   "execution_count": 32,
   "source": [
    "# 데이터 분리: 계약년월 -> 계약년도, 계약월\r\n",
    "df['계약년월_str'] = df['계약년월'].apply(lambda x: str(x))\r\n",
    "df['계약년도'] = df['계약년월_str'].apply(lambda x: x[:4])\r\n",
    "df['계약월'] = df['계약년월_str'].apply(lambda x: x[4:])"
   ],
   "outputs": [],
   "metadata": {}
  },
  {
   "cell_type": "code",
   "execution_count": 33,
   "source": [
    "# 계약일자: datetime 타입의 계약일\r\n",
    "df['계약일자'] = df.계약년월*100 + df.계약일\r\n",
    "df['계약일자'] = pd.to_datetime(df['계약일자'].apply(lambda x:str(x)))"
   ],
   "outputs": [],
   "metadata": {}
  },
  {
   "cell_type": "code",
   "execution_count": 34,
   "source": [
    "# 시,구,동 컬럼 생성\r\n",
    "df['시'] = df.시군구.str.split(' ').str[0]\r\n",
    "df['구'] = df.시군구.str.split(' ').str[1]\r\n",
    "df['동'] = df.시군구.str.split(' ').str[2]"
   ],
   "outputs": [],
   "metadata": {}
  },
  {
   "cell_type": "code",
   "execution_count": 35,
   "source": [
    "# 도로명주소 분리: 도로명, 건물번호\r\n",
    "df.rename(columns = {'도로명':'도로명주소'}, inplace=True)\r\n",
    "df['도로명'] = df.도로명주소.str.split(' ').str[0]\r\n",
    "df['건물번호'] = df.도로명주소.str.split(' ').str[1]"
   ],
   "outputs": [],
   "metadata": {}
  },
  {
   "cell_type": "code",
   "execution_count": null,
   "source": [
    "df.columns"
   ],
   "outputs": [],
   "metadata": {}
  },
  {
   "cell_type": "code",
   "execution_count": 37,
   "source": [
    "# 컬럼명 재정의\r\n",
    "df.columns = ['시군구','번지','본번','부번','건물명','전용면적','대지권면적',\r\n",
    "              '계약년월','계약일','거래금액','층',\r\n",
    "              '건축년도','도로명주소','해제사유발생일',\r\n",
    "              '계약년월_str','계약년도','계약월','계약일자',\r\n",
    "             '시','구','동','도로명','건물번호']"
   ],
   "outputs": [],
   "metadata": {}
  },
  {
   "cell_type": "code",
   "execution_count": 45,
   "source": [
    "# 인플레이션 반영한 거래금액 보정 by using GDP Deflator(기준년도:2015)\r\n",
    "file_name = \"GDP_Deflator_한국은행.xlsx\"\r\n",
    "deflator = pd.read_excel(pathX+\"\\\\\"+file_name, header=0)"
   ],
   "outputs": [],
   "metadata": {}
  },
  {
   "cell_type": "code",
   "execution_count": 46,
   "source": [
    "# 행렬 전환\r\n",
    "deflator = deflator.transpose()\r\n",
    "deflator = deflator[4:]\r\n",
    "\r\n",
    "# 컬럼명 재정의\r\n",
    "deflator.reset_index(drop=False, inplace=True)\r\n",
    "deflator.columns = ['년도','물가지수']\r\n",
    "\r\n",
    "# 2021년 물가지수(예상치) append\r\n",
    "deflator = deflator.append({'년도':'2021', '물가지수':106.5039}, ignore_index=True)\r\n",
    "\r\n",
    "# 데이터 타입 변환(물가지수: float)\r\n",
    "deflator['물가지수'] = deflator['물가지수'].apply(lambda x: float(x))\r\n",
    "#deflator.info()"
   ],
   "outputs": [],
   "metadata": {}
  },
  {
   "cell_type": "code",
   "execution_count": 50,
   "source": [
    "# 물가지수 left join\r\n",
    "df = pd.merge(df, deflator, left_on='계약년도', right_on='년도', how='left')"
   ],
   "outputs": [],
   "metadata": {}
  },
  {
   "cell_type": "code",
   "execution_count": null,
   "source": [
    "# 거래금액_물가반영\r\n",
    "df['거래금액_물가반영'] = df.거래금액*(df.물가지수/100)\r\n",
    "df['거래금액_물가반영'] = df['거래금액_물가반영'].astype(np.uint64)\r\n",
    "\r\n",
    "# 거래금액_로그\r\n",
    "df['거래금액_로그'] = df['거래금액_물가반영'].apply(lambda x: np.log(x))"
   ],
   "outputs": [],
   "metadata": {}
  },
  {
   "cell_type": "code",
   "execution_count": null,
   "source": [
    "df['주소'] = df.시 + \" \" + df.구 + \" \" + df.동 + \" \" + df.도로명주소"
   ],
   "outputs": [],
   "metadata": {}
  },
  {
   "cell_type": "code",
   "execution_count": 71,
   "source": [
    "thisyear = datetime.today().year                        # 현재 연도 가져오기\r\n",
    "df['연식'] = thisyear  - pd.to_numeric(df.건축년도)     # 건물 연식"
   ],
   "outputs": [],
   "metadata": {}
  },
  {
   "cell_type": "code",
   "execution_count": 78,
   "source": [
    "# 컬럼 순서 바꾸기\r\n",
    "df = df[['주소', '시', '구', '동',\r\n",
    "         '도로명주소','도로명','건물번호',\r\n",
    "         '번지','본번','부번',\r\n",
    "         '층','건물명','전용면적','대지권면적','건축년도','연식',\r\n",
    "         '계약년월','계약년도','계약월','계약일','계약일자',\r\n",
    "         '거래금액','거래금액_물가반영','거래금액_로그',\r\n",
    "         '해제사유발생일']]"
   ],
   "outputs": [],
   "metadata": {}
  },
  {
   "cell_type": "code",
   "execution_count": 81,
   "source": [
    "# 컬럼명 재정의\r\n",
    "df.columns = ['addr', 'si', 'gu', 'dong',\r\n",
    "            'addr_street','street_name','bldg_num',\r\n",
    "            'beonji','bonbeon','bubeon',\r\n",
    "            'floor','bldg_name','jeonyong_area','daejigwon_area','const_year','age',\r\n",
    "            'contract_yyyymm','contract_yyyy','contract_mm','contract_day','contract_date',\r\n",
    "            'cost','cost_reflected','cost_reflected_log',\r\n",
    "            'cancel_date']"
   ],
   "outputs": [],
   "metadata": {}
  },
  {
   "cell_type": "code",
   "execution_count": null,
   "source": [
    "# df.to_excel('merged_data_v2.xlsx')\r\n",
    "\r\n",
    "print('*********************************************************************start to create excel file')\r\n",
    "df.to_excel(pathY+\"\\\\\"+'merged_data_v2.xlsx', sheet_name='TRANSACTION_VILLA', index = False)\r\n",
    "print('*********************************************************************End of merge_data.py')"
   ],
   "outputs": [],
   "metadata": {}
  },
  {
   "cell_type": "markdown",
   "source": [
    "***\r\n",
    "***"
   ],
   "metadata": {}
  },
  {
   "cell_type": "code",
   "execution_count": 92,
   "source": [
    "import geopandas as gpd\r\n",
    "from shapely.geometry import Polygon, LineString, Point\r\n",
    "\r\n",
    "import googlemaps\r\n",
    "import googlemap_key  # user 생성.py\r\n",
    "gmaps = googlemaps.Client(key=googlemap_key.gmaps_key)"
   ],
   "outputs": [],
   "metadata": {}
  },
  {
   "cell_type": "code",
   "execution_count": 4,
   "source": [
    "import pymssql"
   ],
   "outputs": [],
   "metadata": {}
  },
  {
   "cell_type": "code",
   "execution_count": 117,
   "source": [
    "conn = pymssql.connect(host=\"####\", user=\"####\", password=\"####\", database=\"####\", charset=\"utf8\")"
   ],
   "outputs": [],
   "metadata": {}
  },
  {
   "cell_type": "code",
   "execution_count": 118,
   "source": [
    "sql = \"select distinct addr, gu, dong from TRANSACTION_VILLA where gu=N'은평구' \""
   ],
   "outputs": [],
   "metadata": {}
  },
  {
   "cell_type": "code",
   "execution_count": 119,
   "source": [
    "# DB의 데이터테이블을 dataframe으로 불러오기\r\n",
    "# 중구 = pd.read_sql(sql=sql, con=conn)\r\n",
    "# 성동구 = pd.read_sql(sql=sql, con=conn)\r\n",
    "# 종로구 = pd.read_sql(sql=sql, con=conn)\r\n",
    "# 영등포구 = pd.read_sql(sql=sql, con=conn)\r\n",
    "# 노원구 = pd.read_sql(sql=sql, con=conn)\r\n",
    "# 용산구 = pd.read_sql(sql=sql, con=conn)\r\n",
    "# 동대문구 = pd.read_sql(sql=sql, con=conn)\r\n",
    "# 강남구 = pd.read_sql(sql=sql, con=conn)\r\n",
    "# 금천구 = pd.read_sql(sql=sql, con=conn)\r\n",
    "# 서초구 = pd.read_sql(sql=sql, con=conn)\r\n",
    "# 중랑구 = pd.read_sql(sql=sql, con=conn)\r\n",
    "# 서대문구 = pd.read_sql(sql=sql, con=conn)\r\n",
    "# 광진구 = pd.read_sql(sql=sql, con=conn)\r\n",
    "# 도봉구 = pd.read_sql(sql=sql, con=conn)\r\n",
    "# 동작구 = pd.read_sql(sql=sql, con=conn)\r\n",
    "# 성북구 = pd.read_sql(sql=sql, con=conn)\r\n",
    "# 마포구 = pd.read_sql(sql=sql, con=conn)\r\n",
    "# 구로구 = pd.read_sql(sql=sql, con=conn)\r\n",
    "# 강동구 = pd.read_sql(sql=sql, con=conn)\r\n",
    "# 관악구 = pd.read_sql(sql=sql, con=conn)\r\n",
    "# 강북구 = pd.read_sql(sql=sql, con=conn)\r\n",
    "# 양천구 = pd.read_sql(sql=sql, con=conn)\r\n",
    "# 송파구 = pd.read_sql(sql=sql, con=conn)\r\n",
    "# 강서구 = pd.read_sql(sql=sql, con=conn)\r\n",
    "은평구 = pd.read_sql(sql=sql, con=conn)"
   ],
   "outputs": [],
   "metadata": {}
  },
  {
   "cell_type": "code",
   "execution_count": null,
   "source": [
    "# 중구.assign(lat='', lng='')\r\n",
    "# 성동구.assign(lat='', lng='')\r\n",
    "# 종로구.assign(lat='', lng='')\r\n",
    "# 영등포구.assign(lat='', lng='')\r\n",
    "# 노원구.assign(lat='', lng='')\r\n",
    "# 용산구.assign(lat='', lng='')\r\n",
    "# 동대문구.assign(lat='', lng='')\r\n",
    "# 강남구.assign(lat='', lng='')\r\n",
    "# 금천구.assign(lat='', lng='')\r\n",
    "# 서초구.assign(lat='', lng='')\r\n",
    "# 중랑구.assign(lat='', lng='')\r\n",
    "# 서대문구.assign(lat='', lng='')\r\n",
    "# 광진구.assign(lat='', lng='')\r\n",
    "# 도봉구.assign(lat='', lng='')\r\n",
    "# 동작구 = 동작구.assign(lat='', lng='')\r\n",
    "# 성북구.assign(lat='', lng='')\r\n",
    "# 마포구.assign(lat='', lng='')\r\n",
    "# 구로구.assign(lat='', lng='')\r\n",
    "# 강동구.assign(lat='', lng='')\r\n",
    "# 관악구.assign(lat='', lng='')\r\n",
    "# 강북구.assign(lat='', lng='')\r\n",
    "# 양천구.assign(lat='', lng='')\r\n",
    "# 송파구.assign(lat='', lng='')\r\n",
    "# 강서구.assign(lat='', lng='')\r\n",
    "은평구.assign(lat='', lng='')"
   ],
   "outputs": [],
   "metadata": {}
  },
  {
   "cell_type": "code",
   "execution_count": null,
   "source": [
    "for idx, row in 은평구.iterrows():\r\n",
    "    temp = gmaps.geocode(row.addr, language='ko')\r\n",
    "    print(idx)\r\n",
    "    \r\n",
    "    if len(temp) == 0:  # 위/경도 return 못할 경우\r\n",
    "        은평구.loc[idx,'lat'] = \"NoData\"\r\n",
    "        은평구.loc[idx,'lng'] = \"NoData\"\r\n",
    "        continue\r\n",
    "    else:\r\n",
    "        index = len(temp)-1\r\n",
    "        은평구.loc[idx,'lat']=temp[index]['geometry']['location']['lat']\r\n",
    "        은평구.loc[idx,'lng']=temp[index]['geometry']['location']['lng']\r\n",
    "\r\n",
    "#for i, addr in enumerate(중구.addr):\r\n",
    "#    list_addr = gmaps.geocode(addr, language='ko')\r\n",
    "#    idx = len(list_addr) - 1\r\n",
    "#    중구.loc[i,'lat'] = list_addr[idx]['geometry']['location']['lat']\r\n",
    "#    중구.loc[i,'lng'] = list_addr[idx]['geometry']['location']['lng']"
   ],
   "outputs": [],
   "metadata": {}
  },
  {
   "cell_type": "code",
   "execution_count": 122,
   "source": [
    "# 위경도 ret 방법1 - 엑셀파일\r\n",
    "filename = \"은평구.xlsx\"\r\n",
    "은평구.to_excel(pathX+\"\\\\\"+filename, sheet_name='LOCATION_EUNPYEONG', index=False, header=True)"
   ],
   "outputs": [],
   "metadata": {}
  },
  {
   "cell_type": "code",
   "execution_count": null,
   "source": [
    "#성동구['lat'] = 성동구['lat'].astype(float)\r\n",
    "#성동구['lng'] = 성동구['lng'].astype(float)"
   ],
   "outputs": [],
   "metadata": {}
  },
  {
   "cell_type": "code",
   "execution_count": 52,
   "source": [
    "# Connection 으로부터 Cursor 생성\r\n",
    "curs = conn.cursor() "
   ],
   "outputs": [],
   "metadata": {}
  },
  {
   "cell_type": "code",
   "execution_count": null,
   "source": [
    "# 위경도 ret 방법2 - DB Insert\r\n",
    "sql = 'insert into LOCATION_GANGSEO values (%s, %s, %s, %s, %s)'\r\n",
    "loc = 0\r\n",
    "\r\n",
    "for i in 강서구.values:\r\n",
    "    curs.execute(sql, tuple(i))\r\n",
    "    print(loc)\r\n",
    "    loc+=1"
   ],
   "outputs": [],
   "metadata": {}
  },
  {
   "cell_type": "code",
   "execution_count": 54,
   "source": [
    "conn.commit()"
   ],
   "outputs": [],
   "metadata": {}
  },
  {
   "cell_type": "code",
   "execution_count": 123,
   "source": [
    "# DB 연결 해제\r\n",
    "conn.close()"
   ],
   "outputs": [],
   "metadata": {}
  },
  {
   "cell_type": "code",
   "execution_count": null,
   "source": [],
   "outputs": [],
   "metadata": {}
  }
 ],
 "metadata": {
  "orig_nbformat": 4,
  "language_info": {
   "name": "python",
   "version": "3.8.8",
   "mimetype": "text/x-python",
   "codemirror_mode": {
    "name": "ipython",
    "version": 3
   },
   "pygments_lexer": "ipython3",
   "nbconvert_exporter": "python",
   "file_extension": ".py"
  },
  "kernelspec": {
   "name": "python3",
   "display_name": "Python 3.8.8 64-bit ('base': conda)"
  },
  "interpreter": {
   "hash": "b3ba2566441a7c06988d0923437866b63cedc61552a5af99d1f4fb67d367b25f"
  }
 },
 "nbformat": 4,
 "nbformat_minor": 2
}