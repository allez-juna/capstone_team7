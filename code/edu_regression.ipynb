{
 "cells": [
  {
   "cell_type": "code",
   "execution_count": 1,
   "source": [
    "import pandas as pd\r\n",
    "import numpy as np\r\n",
    "import geopandas as gpd\r\n",
    "from shapely.geometry import Polygon, LineString, Point\r\n",
    "import statsmodels.formula.api as smf #회귀식 도출 위한 모듈\r\n",
    "\r\n",
    "import openpyxl\r\n",
    "\r\n",
    "# user-defined modules\r\n",
    "import _path"
   ],
   "outputs": [],
   "metadata": {}
  },
  {
   "cell_type": "code",
   "execution_count": 2,
   "source": [
    "path  = _path.path\r\n",
    "pathX = _path.pathX\r\n",
    "pathY = _path.pathX"
   ],
   "outputs": [],
   "metadata": {}
  },
  {
   "cell_type": "markdown",
   "source": [
    "# 실거래 이력이 있는 주소지 - 1) 배정학교 6학년 비율 점수 2) 반경 500m 내 학원 수"
   ],
   "metadata": {}
  },
  {
   "cell_type": "markdown",
   "source": [
    "## 1. 실거래 이력이 있는 주소지 - 초등학교 배정"
   ],
   "metadata": {}
  },
  {
   "cell_type": "code",
   "execution_count": 5,
   "source": [
    "V_LOCATION = pd.read_excel(path+\"\\\\\"+\"V_LOCATION.xlsx\",sheet_name = 0, header=0)\r\n",
    "SEOUL_ELSCH_INFO = pd.read_excel(path+\"\\\\\"+\"SEOUL_ELSCH_INFO.xlsx\",sheet_name = 0, header=0)"
   ],
   "outputs": [],
   "metadata": {}
  },
  {
   "cell_type": "code",
   "execution_count": 6,
   "source": [
    "ELSCHOOL = SEOUL_ELSCH_INFO[['SCH_NAME', 'HAKGUDO_NM', 'ADDR', 'GRADE1', 'GRADE6', 'TOT_NUM', 'GRADE1_PROP', 'GRADE6_PROP', 'SCORE_GRADE6_PROP', 'LAT', 'LNG']]\r\n",
    "ELSCHOOL.columns = ['sch_name', 'hakgudo_nm', 'addr', 'grade1', 'grade6', 'tot_num', 'grade1_prop', 'grade6_prop', 'score_grade6_prop', 'lat', 'lng']"
   ],
   "outputs": [],
   "metadata": {}
  },
  {
   "cell_type": "code",
   "execution_count": 7,
   "source": [
    "ELSCHOOL['geometry'] = ELSCHOOL.apply(lambda row : Point([row['lng'], row['lat']]), axis=1)\r\n",
    "# dataframe -> geodataframe 변환\r\n",
    "ELSCHOOL = gpd.GeoDataFrame(ELSCHOOL, geometry='geometry')\r\n",
    "print(ELSCHOOL.crs)\r\n",
    "# 기본 위경도좌표는 EPSG4326\r\n",
    "ELSCHOOL.crs = {'init': 'epsg:4326'}\r\n",
    "ELSCHOOL = ELSCHOOL.to_crs({'init':'epsg:5186'})\r\n",
    "print(ELSCHOOL.crs)"
   ],
   "outputs": [
    {
     "output_type": "stream",
     "name": "stdout",
     "text": [
      "None\n",
      "+init=epsg:5186 +type=crs\n"
     ]
    },
    {
     "output_type": "stream",
     "name": "stderr",
     "text": [
      "<ipython-input-7-809056ac7e0f>:1: SettingWithCopyWarning: \n",
      "A value is trying to be set on a copy of a slice from a DataFrame.\n",
      "Try using .loc[row_indexer,col_indexer] = value instead\n",
      "\n",
      "See the caveats in the documentation: https://pandas.pydata.org/pandas-docs/stable/user_guide/indexing.html#returning-a-view-versus-a-copy\n",
      "  ELSCHOOL['geometry'] = ELSCHOOL.apply(lambda row : Point([row['lng'], row['lat']]), axis=1)\n",
      "C:\\ProgramData\\Anaconda3\\lib\\site-packages\\pyproj\\crs\\crs.py:68: FutureWarning: '+init=<authority>:<code>' syntax is deprecated. '<authority>:<code>' is the preferred initialization method. When making the change, be mindful of axis order changes: https://pyproj4.github.io/pyproj/stable/gotchas.html#axis-order-changes-in-proj-6\n",
      "  return _prepare_from_string(\" \".join(pjargs))\n"
     ]
    }
   ],
   "metadata": {}
  },
  {
   "cell_type": "code",
   "execution_count": null,
   "source": [
    "# 1-1) 학구도 확인해서 초등학교 배정\r\n",
    "for idx_t, trans in V_LOCATION.iterrows():\r\n",
    "    for idx_s, school in ELSCHOOL.iterrows():\r\n",
    "        if(trans.geometry.within(school.hakgudo_geo)==True):\r\n",
    "            V_LOCATION.loc[idx_t,'sch_name'] = school.sch_name\r\n",
    "            break\r\n",
    "        else:\r\n",
    "            continue"
   ],
   "outputs": [],
   "metadata": {}
  },
  {
   "cell_type": "code",
   "execution_count": null,
   "source": [
    "# 초등학교 배정안된 주소 확인: 1989개\r\n",
    "V_LOCATION[V_LOCATION.sch_name.isnull()]"
   ],
   "outputs": [],
   "metadata": {}
  },
  {
   "cell_type": "code",
   "execution_count": null,
   "source": [
    "# V_LOCATION.sch_name = Nan -> 빈칸으로 만들기\r\n",
    "V_LOCATION = V_LOCATION.replace(np.nan, '', regex=True)"
   ],
   "outputs": [],
   "metadata": {}
  },
  {
   "cell_type": "code",
   "execution_count": null,
   "source": [
    "# 1-2) 학구도로 배정안된 주소 가장 가까운 학교 배정하기\r\n",
    "def min_dist(point, gpd2):\r\n",
    "    gpd2['Dist'] = gpd2.apply(lambda row: point.distance(row.geometry),axis=1)\r\n",
    "    geoseries = gpd2.iloc[gpd2['Dist'].argmin()]\r\n",
    "    return geoseries.sch_name"
   ],
   "outputs": [],
   "metadata": {}
  },
  {
   "cell_type": "code",
   "execution_count": null,
   "source": [
    "for idx_t, trans in V_LOCATION.iterrows():\r\n",
    "    if (trans.sch_name == '') :\r\n",
    "        V_LOCATION.loc[idx_t,'sch_name'] = min_dist(trans.geometry, ELSCHOOL)\r\n",
    "    else: \r\n",
    "        continue"
   ],
   "outputs": [],
   "metadata": {}
  },
  {
   "cell_type": "markdown",
   "source": [
    "## 2. 실거래 이력이 있는 주소지 - 반경 500m 내 학원 수(edu_hakwon_cnt.ipynb)"
   ],
   "metadata": {}
  },
  {
   "cell_type": "markdown",
   "source": [
    "# 실거래 이력이 있는 주소지 - 1) 배정학교 6학년 비율 점수 2) 반경 500m 내 학원 수 (엑셀파일 load ver.)"
   ],
   "metadata": {}
  },
  {
   "cell_type": "code",
   "execution_count": 12,
   "source": [
    "filename = \"V_LOCATION_edited_3.xlsx\"\r\n",
    "V_LOCATION = pd.read_excel(path+\"\\\\\"+filename,sheet_name = 0, header=0)"
   ],
   "outputs": [],
   "metadata": {}
  },
  {
   "cell_type": "code",
   "execution_count": 19,
   "source": [
    "V_LOCATION['hakwon_cnt_log'] = V_LOCATION['hakwon_cnt'].apply(lambda x: np.log(x+1))"
   ],
   "outputs": [],
   "metadata": {}
  },
  {
   "cell_type": "markdown",
   "source": [
    "# 거래 이력에 교육여건 관련 데이터 붙이기"
   ],
   "metadata": {}
  },
  {
   "cell_type": "code",
   "execution_count": 3,
   "source": [
    "# 실거래 이력 load\r\n",
    "TRANSACTION_VILLA = pd.read_excel(path+\"\\\\\"+\"TRANSACTION_VILLA.xlsx\",sheet_name = 0, header=0)"
   ],
   "outputs": [],
   "metadata": {}
  },
  {
   "cell_type": "code",
   "execution_count": 4,
   "source": [
    "TRANSACTION = TRANSACTION_VILLA[['addr', 'age','floor', 'cost','cost_reflected','cost_reflected_log']]"
   ],
   "outputs": [],
   "metadata": {}
  },
  {
   "cell_type": "code",
   "execution_count": 21,
   "source": [
    "# 거래 이력에 배정 초등학교 정보 add\r\n",
    "TRANSACTION = pd.merge(TRANSACTION, V_LOCATION[['addr','lat','lng','geometry','sch_name','score_grade6_prop','hakwon_cnt','hakwon_cnt_log']], on='addr', how='left')"
   ],
   "outputs": [],
   "metadata": {}
  },
  {
   "cell_type": "code",
   "execution_count": 22,
   "source": [
    "V_LOCATION.shape"
   ],
   "outputs": [
    {
     "output_type": "execute_result",
     "data": {
      "text/plain": [
       "(78040, 11)"
      ]
     },
     "metadata": {},
     "execution_count": 22
    }
   ],
   "metadata": {}
  },
  {
   "cell_type": "code",
   "execution_count": 23,
   "source": [
    "V_LOCATION.describe()"
   ],
   "outputs": [
    {
     "output_type": "execute_result",
     "data": {
      "text/html": [
       "<div>\n",
       "<style scoped>\n",
       "    .dataframe tbody tr th:only-of-type {\n",
       "        vertical-align: middle;\n",
       "    }\n",
       "\n",
       "    .dataframe tbody tr th {\n",
       "        vertical-align: top;\n",
       "    }\n",
       "\n",
       "    .dataframe thead th {\n",
       "        text-align: right;\n",
       "    }\n",
       "</style>\n",
       "<table border=\"1\" class=\"dataframe\">\n",
       "  <thead>\n",
       "    <tr style=\"text-align: right;\">\n",
       "      <th></th>\n",
       "      <th>lat</th>\n",
       "      <th>lng</th>\n",
       "      <th>score_grade6_prop</th>\n",
       "      <th>hakwon_cnt</th>\n",
       "      <th>EMD_CD</th>\n",
       "      <th>hakwon_cnt_log</th>\n",
       "    </tr>\n",
       "  </thead>\n",
       "  <tbody>\n",
       "    <tr>\n",
       "      <th>count</th>\n",
       "      <td>78040.000000</td>\n",
       "      <td>78040.000000</td>\n",
       "      <td>78040.000000</td>\n",
       "      <td>78040.000000</td>\n",
       "      <td>7.804000e+04</td>\n",
       "      <td>78040.000000</td>\n",
       "    </tr>\n",
       "    <tr>\n",
       "      <th>mean</th>\n",
       "      <td>37.554410</td>\n",
       "      <td>126.974284</td>\n",
       "      <td>1.823665</td>\n",
       "      <td>47.890928</td>\n",
       "      <td>1.144061e+07</td>\n",
       "      <td>3.607742</td>\n",
       "    </tr>\n",
       "    <tr>\n",
       "      <th>std</th>\n",
       "      <td>0.056213</td>\n",
       "      <td>0.090120</td>\n",
       "      <td>3.634215</td>\n",
       "      <td>48.799482</td>\n",
       "      <td>1.660529e+05</td>\n",
       "      <td>0.796583</td>\n",
       "    </tr>\n",
       "    <tr>\n",
       "      <th>min</th>\n",
       "      <td>35.335007</td>\n",
       "      <td>126.798744</td>\n",
       "      <td>-15.526000</td>\n",
       "      <td>0.000000</td>\n",
       "      <td>1.111010e+07</td>\n",
       "      <td>0.000000</td>\n",
       "    </tr>\n",
       "    <tr>\n",
       "      <th>25%</th>\n",
       "      <td>37.505626</td>\n",
       "      <td>126.909950</td>\n",
       "      <td>-0.350000</td>\n",
       "      <td>24.000000</td>\n",
       "      <td>1.130510e+07</td>\n",
       "      <td>3.218876</td>\n",
       "    </tr>\n",
       "    <tr>\n",
       "      <th>50%</th>\n",
       "      <td>37.549965</td>\n",
       "      <td>126.962194</td>\n",
       "      <td>1.811000</td>\n",
       "      <td>39.000000</td>\n",
       "      <td>1.144012e+07</td>\n",
       "      <td>3.688879</td>\n",
       "    </tr>\n",
       "    <tr>\n",
       "      <th>75%</th>\n",
       "      <td>37.599170</td>\n",
       "      <td>127.042539</td>\n",
       "      <td>3.890000</td>\n",
       "      <td>61.000000</td>\n",
       "      <td>1.159010e+07</td>\n",
       "      <td>4.127134</td>\n",
       "    </tr>\n",
       "    <tr>\n",
       "      <th>max</th>\n",
       "      <td>37.687177</td>\n",
       "      <td>129.037169</td>\n",
       "      <td>17.435000</td>\n",
       "      <td>1004.000000</td>\n",
       "      <td>1.174011e+07</td>\n",
       "      <td>6.912743</td>\n",
       "    </tr>\n",
       "  </tbody>\n",
       "</table>\n",
       "</div>"
      ],
      "text/plain": [
       "                lat           lng  score_grade6_prop    hakwon_cnt  \\\n",
       "count  78040.000000  78040.000000       78040.000000  78040.000000   \n",
       "mean      37.554410    126.974284           1.823665     47.890928   \n",
       "std        0.056213      0.090120           3.634215     48.799482   \n",
       "min       35.335007    126.798744         -15.526000      0.000000   \n",
       "25%       37.505626    126.909950          -0.350000     24.000000   \n",
       "50%       37.549965    126.962194           1.811000     39.000000   \n",
       "75%       37.599170    127.042539           3.890000     61.000000   \n",
       "max       37.687177    129.037169          17.435000   1004.000000   \n",
       "\n",
       "             EMD_CD  hakwon_cnt_log  \n",
       "count  7.804000e+04    78040.000000  \n",
       "mean   1.144061e+07        3.607742  \n",
       "std    1.660529e+05        0.796583  \n",
       "min    1.111010e+07        0.000000  \n",
       "25%    1.130510e+07        3.218876  \n",
       "50%    1.144012e+07        3.688879  \n",
       "75%    1.159010e+07        4.127134  \n",
       "max    1.174011e+07        6.912743  "
      ]
     },
     "metadata": {},
     "execution_count": 23
    }
   ],
   "metadata": {}
  },
  {
   "cell_type": "code",
   "execution_count": 24,
   "source": [
    "V_LOCATION.head()"
   ],
   "outputs": [
    {
     "output_type": "execute_result",
     "data": {
      "text/html": [
       "<div>\n",
       "<style scoped>\n",
       "    .dataframe tbody tr th:only-of-type {\n",
       "        vertical-align: middle;\n",
       "    }\n",
       "\n",
       "    .dataframe tbody tr th {\n",
       "        vertical-align: top;\n",
       "    }\n",
       "\n",
       "    .dataframe thead th {\n",
       "        text-align: right;\n",
       "    }\n",
       "</style>\n",
       "<table border=\"1\" class=\"dataframe\">\n",
       "  <thead>\n",
       "    <tr style=\"text-align: right;\">\n",
       "      <th></th>\n",
       "      <th>addr</th>\n",
       "      <th>gu</th>\n",
       "      <th>dong</th>\n",
       "      <th>lat</th>\n",
       "      <th>lng</th>\n",
       "      <th>geometry</th>\n",
       "      <th>sch_name</th>\n",
       "      <th>score_grade6_prop</th>\n",
       "      <th>hakwon_cnt</th>\n",
       "      <th>EMD_CD</th>\n",
       "      <th>hakwon_cnt_log</th>\n",
       "    </tr>\n",
       "  </thead>\n",
       "  <tbody>\n",
       "    <tr>\n",
       "      <th>0</th>\n",
       "      <td>서울특별시 중구 광희동2가 장충단로8가길 18-2</td>\n",
       "      <td>중구</td>\n",
       "      <td>광희동2가</td>\n",
       "      <td>37.562857</td>\n",
       "      <td>127.007960</td>\n",
       "      <td>POINT (200703.2937658533 551480.5026546286)</td>\n",
       "      <td>서울장충초등학교</td>\n",
       "      <td>6.865</td>\n",
       "      <td>3</td>\n",
       "      <td>11140146</td>\n",
       "      <td>1.386294</td>\n",
       "    </tr>\n",
       "    <tr>\n",
       "      <th>1</th>\n",
       "      <td>서울특별시 중구 광희동2가 장충단로8나길 11-28</td>\n",
       "      <td>중구</td>\n",
       "      <td>광희동2가</td>\n",
       "      <td>37.563070</td>\n",
       "      <td>127.008599</td>\n",
       "      <td>POINT (200759.7480674413 551504.1037245411)</td>\n",
       "      <td>서울장충초등학교</td>\n",
       "      <td>6.865</td>\n",
       "      <td>3</td>\n",
       "      <td>11140146</td>\n",
       "      <td>1.386294</td>\n",
       "    </tr>\n",
       "    <tr>\n",
       "      <th>2</th>\n",
       "      <td>서울특별시 중구 남산동2가 퇴계로20나길 45</td>\n",
       "      <td>중구</td>\n",
       "      <td>남산동2가</td>\n",
       "      <td>37.557155</td>\n",
       "      <td>126.985474</td>\n",
       "      <td>POINT (198716.5381771795 550847.7286095693)</td>\n",
       "      <td>서울남산초등학교</td>\n",
       "      <td>-9.551</td>\n",
       "      <td>4</td>\n",
       "      <td>11140129</td>\n",
       "      <td>1.609438</td>\n",
       "    </tr>\n",
       "    <tr>\n",
       "      <th>3</th>\n",
       "      <td>서울특별시 중구 남창동 퇴계로2길 23</td>\n",
       "      <td>중구</td>\n",
       "      <td>남창동</td>\n",
       "      <td>37.556544</td>\n",
       "      <td>126.977476</td>\n",
       "      <td>POINT (198009.8257770552 550780.0097542248)</td>\n",
       "      <td>서울남산초등학교</td>\n",
       "      <td>-9.551</td>\n",
       "      <td>2</td>\n",
       "      <td>11140112</td>\n",
       "      <td>1.098612</td>\n",
       "    </tr>\n",
       "    <tr>\n",
       "      <th>4</th>\n",
       "      <td>서울특별시 중구 남창동 퇴계로6가길 30-7</td>\n",
       "      <td>중구</td>\n",
       "      <td>남창동</td>\n",
       "      <td>37.556540</td>\n",
       "      <td>126.977835</td>\n",
       "      <td>POINT (198041.5376161356 550779.5471647036)</td>\n",
       "      <td>서울남산초등학교</td>\n",
       "      <td>-9.551</td>\n",
       "      <td>1</td>\n",
       "      <td>11140112</td>\n",
       "      <td>0.693147</td>\n",
       "    </tr>\n",
       "  </tbody>\n",
       "</table>\n",
       "</div>"
      ],
      "text/plain": [
       "                           addr  gu   dong        lat         lng  \\\n",
       "0   서울특별시 중구 광희동2가 장충단로8가길 18-2  중구  광희동2가  37.562857  127.007960   \n",
       "1  서울특별시 중구 광희동2가 장충단로8나길 11-28  중구  광희동2가  37.563070  127.008599   \n",
       "2     서울특별시 중구 남산동2가 퇴계로20나길 45  중구  남산동2가  37.557155  126.985474   \n",
       "3         서울특별시 중구 남창동 퇴계로2길 23  중구    남창동  37.556544  126.977476   \n",
       "4      서울특별시 중구 남창동 퇴계로6가길 30-7  중구    남창동  37.556540  126.977835   \n",
       "\n",
       "                                      geometry  sch_name  score_grade6_prop  \\\n",
       "0  POINT (200703.2937658533 551480.5026546286)  서울장충초등학교              6.865   \n",
       "1  POINT (200759.7480674413 551504.1037245411)  서울장충초등학교              6.865   \n",
       "2  POINT (198716.5381771795 550847.7286095693)  서울남산초등학교             -9.551   \n",
       "3  POINT (198009.8257770552 550780.0097542248)  서울남산초등학교             -9.551   \n",
       "4  POINT (198041.5376161356 550779.5471647036)  서울남산초등학교             -9.551   \n",
       "\n",
       "   hakwon_cnt    EMD_CD  hakwon_cnt_log  \n",
       "0           3  11140146        1.386294  \n",
       "1           3  11140146        1.386294  \n",
       "2           4  11140129        1.609438  \n",
       "3           2  11140112        1.098612  \n",
       "4           1  11140112        0.693147  "
      ]
     },
     "metadata": {},
     "execution_count": 24
    }
   ],
   "metadata": {}
  },
  {
   "cell_type": "code",
   "execution_count": 25,
   "source": [
    "TRANSACTION"
   ],
   "outputs": [
    {
     "output_type": "execute_result",
     "data": {
      "text/html": [
       "<div>\n",
       "<style scoped>\n",
       "    .dataframe tbody tr th:only-of-type {\n",
       "        vertical-align: middle;\n",
       "    }\n",
       "\n",
       "    .dataframe tbody tr th {\n",
       "        vertical-align: top;\n",
       "    }\n",
       "\n",
       "    .dataframe thead th {\n",
       "        text-align: right;\n",
       "    }\n",
       "</style>\n",
       "<table border=\"1\" class=\"dataframe\">\n",
       "  <thead>\n",
       "    <tr style=\"text-align: right;\">\n",
       "      <th></th>\n",
       "      <th>addr</th>\n",
       "      <th>age</th>\n",
       "      <th>floor</th>\n",
       "      <th>cost</th>\n",
       "      <th>cost_reflected</th>\n",
       "      <th>cost_reflected_log</th>\n",
       "      <th>lat</th>\n",
       "      <th>lng</th>\n",
       "      <th>geometry</th>\n",
       "      <th>sch_name</th>\n",
       "      <th>score_grade6_prop</th>\n",
       "      <th>hakwon_cnt</th>\n",
       "      <th>hakwon_cnt_log</th>\n",
       "    </tr>\n",
       "  </thead>\n",
       "  <tbody>\n",
       "    <tr>\n",
       "      <th>0</th>\n",
       "      <td>서울특별시 강서구 화곡동 초록마을로24길 27-11</td>\n",
       "      <td>9.0</td>\n",
       "      <td>1</td>\n",
       "      <td>157500000</td>\n",
       "      <td>149739975</td>\n",
       "      <td>18.824411</td>\n",
       "      <td>37.539104</td>\n",
       "      <td>126.850152</td>\n",
       "      <td>POINT (186756.5773103896 548854.7601730863)</td>\n",
       "      <td>서울화일초등학교</td>\n",
       "      <td>-1.399</td>\n",
       "      <td>26.0</td>\n",
       "      <td>3.295837</td>\n",
       "    </tr>\n",
       "    <tr>\n",
       "      <th>1</th>\n",
       "      <td>서울특별시 강서구 화곡동 초록마을로24길 21-9</td>\n",
       "      <td>8.0</td>\n",
       "      <td>-1</td>\n",
       "      <td>160000000</td>\n",
       "      <td>150236800</td>\n",
       "      <td>18.827723</td>\n",
       "      <td>37.538891</td>\n",
       "      <td>126.850495</td>\n",
       "      <td>POINT (186786.8273415241 548831.0715477165)</td>\n",
       "      <td>서울화일초등학교</td>\n",
       "      <td>-1.399</td>\n",
       "      <td>22.0</td>\n",
       "      <td>3.135494</td>\n",
       "    </tr>\n",
       "    <tr>\n",
       "      <th>2</th>\n",
       "      <td>서울특별시 강서구 화곡동 초록마을로24길 21</td>\n",
       "      <td>8.0</td>\n",
       "      <td>4</td>\n",
       "      <td>150000000</td>\n",
       "      <td>140847000</td>\n",
       "      <td>18.763185</td>\n",
       "      <td>37.539032</td>\n",
       "      <td>126.850837</td>\n",
       "      <td>POINT (186817.0602029711 548846.595173208)</td>\n",
       "      <td>서울화일초등학교</td>\n",
       "      <td>-1.399</td>\n",
       "      <td>20.0</td>\n",
       "      <td>3.044522</td>\n",
       "    </tr>\n",
       "    <tr>\n",
       "      <th>3</th>\n",
       "      <td>서울특별시 강서구 화곡동 강서로18라길 6</td>\n",
       "      <td>24.0</td>\n",
       "      <td>2</td>\n",
       "      <td>121000000</td>\n",
       "      <td>113616579</td>\n",
       "      <td>18.548340</td>\n",
       "      <td>37.534759</td>\n",
       "      <td>126.848531</td>\n",
       "      <td>POINT (186612.5021680367 548372.7143265564)</td>\n",
       "      <td>서울신정초등학교</td>\n",
       "      <td>1.429</td>\n",
       "      <td>49.0</td>\n",
       "      <td>3.912023</td>\n",
       "    </tr>\n",
       "    <tr>\n",
       "      <th>4</th>\n",
       "      <td>서울특별시 강서구 화곡동 까치산로18길 44-13</td>\n",
       "      <td>9.0</td>\n",
       "      <td>1</td>\n",
       "      <td>124000000</td>\n",
       "      <td>116433519</td>\n",
       "      <td>18.572831</td>\n",
       "      <td>37.545873</td>\n",
       "      <td>126.850574</td>\n",
       "      <td>POINT (186794.9877836591 549605.9782850359)</td>\n",
       "      <td>서울화곡초등학교</td>\n",
       "      <td>2.716</td>\n",
       "      <td>28.0</td>\n",
       "      <td>3.367296</td>\n",
       "    </tr>\n",
       "    <tr>\n",
       "      <th>...</th>\n",
       "      <td>...</td>\n",
       "      <td>...</td>\n",
       "      <td>...</td>\n",
       "      <td>...</td>\n",
       "      <td>...</td>\n",
       "      <td>...</td>\n",
       "      <td>...</td>\n",
       "      <td>...</td>\n",
       "      <td>...</td>\n",
       "      <td>...</td>\n",
       "      <td>...</td>\n",
       "      <td>...</td>\n",
       "      <td>...</td>\n",
       "    </tr>\n",
       "    <tr>\n",
       "      <th>467593</th>\n",
       "      <td>서울특별시 종로구 누상동 필운대로5가길 43</td>\n",
       "      <td>19.0</td>\n",
       "      <td>4</td>\n",
       "      <td>520000000</td>\n",
       "      <td>547253200</td>\n",
       "      <td>20.120422</td>\n",
       "      <td>37.580451</td>\n",
       "      <td>126.966941</td>\n",
       "      <td>POINT (197079.8558931934 553433.716339696)</td>\n",
       "      <td>서울청운초등학교</td>\n",
       "      <td>3.505</td>\n",
       "      <td>22.0</td>\n",
       "      <td>3.135494</td>\n",
       "    </tr>\n",
       "    <tr>\n",
       "      <th>467594</th>\n",
       "      <td>서울특별시 종로구 누상동 옥인길 59-12</td>\n",
       "      <td>19.0</td>\n",
       "      <td>3</td>\n",
       "      <td>305000000</td>\n",
       "      <td>320985050</td>\n",
       "      <td>19.586905</td>\n",
       "      <td>37.581046</td>\n",
       "      <td>126.965595</td>\n",
       "      <td>POINT (196961.0490559293 553499.7639050998)</td>\n",
       "      <td>서울청운초등학교</td>\n",
       "      <td>3.505</td>\n",
       "      <td>18.0</td>\n",
       "      <td>2.944439</td>\n",
       "    </tr>\n",
       "    <tr>\n",
       "      <th>467595</th>\n",
       "      <td>서울특별시 종로구 누상동 옥인6길 37-8</td>\n",
       "      <td>19.0</td>\n",
       "      <td>4</td>\n",
       "      <td>315000000</td>\n",
       "      <td>331509150</td>\n",
       "      <td>19.619166</td>\n",
       "      <td>37.580357</td>\n",
       "      <td>126.965185</td>\n",
       "      <td>POINT (196924.7525303085 553423.3727399055)</td>\n",
       "      <td>서울청운초등학교</td>\n",
       "      <td>3.505</td>\n",
       "      <td>11.0</td>\n",
       "      <td>2.484907</td>\n",
       "    </tr>\n",
       "    <tr>\n",
       "      <th>467596</th>\n",
       "      <td>서울특별시 종로구 누상동 옥인6길 37-8</td>\n",
       "      <td>20.0</td>\n",
       "      <td>4</td>\n",
       "      <td>340000000</td>\n",
       "      <td>362113260</td>\n",
       "      <td>19.707468</td>\n",
       "      <td>37.580357</td>\n",
       "      <td>126.965185</td>\n",
       "      <td>POINT (196924.7525303085 553423.3727399055)</td>\n",
       "      <td>서울청운초등학교</td>\n",
       "      <td>3.505</td>\n",
       "      <td>11.0</td>\n",
       "      <td>2.484907</td>\n",
       "    </tr>\n",
       "    <tr>\n",
       "      <th>467597</th>\n",
       "      <td>서울특별시 종로구 누상동 필운대로5가길 47</td>\n",
       "      <td>18.0</td>\n",
       "      <td>3</td>\n",
       "      <td>259000000</td>\n",
       "      <td>272574190</td>\n",
       "      <td>19.423421</td>\n",
       "      <td>37.580594</td>\n",
       "      <td>126.966598</td>\n",
       "      <td>POINT (197049.5818439329 553449.5984140983)</td>\n",
       "      <td>서울청운초등학교</td>\n",
       "      <td>3.505</td>\n",
       "      <td>20.0</td>\n",
       "      <td>3.044522</td>\n",
       "    </tr>\n",
       "  </tbody>\n",
       "</table>\n",
       "<p>467598 rows × 13 columns</p>\n",
       "</div>"
      ],
      "text/plain": [
       "                                addr   age  floor       cost  cost_reflected  \\\n",
       "0       서울특별시 강서구 화곡동 초록마을로24길 27-11   9.0      1  157500000       149739975   \n",
       "1        서울특별시 강서구 화곡동 초록마을로24길 21-9   8.0     -1  160000000       150236800   \n",
       "2          서울특별시 강서구 화곡동 초록마을로24길 21   8.0      4  150000000       140847000   \n",
       "3            서울특별시 강서구 화곡동 강서로18라길 6  24.0      2  121000000       113616579   \n",
       "4        서울특별시 강서구 화곡동 까치산로18길 44-13   9.0      1  124000000       116433519   \n",
       "...                              ...   ...    ...        ...             ...   \n",
       "467593      서울특별시 종로구 누상동 필운대로5가길 43  19.0      4  520000000       547253200   \n",
       "467594       서울특별시 종로구 누상동 옥인길 59-12  19.0      3  305000000       320985050   \n",
       "467595       서울특별시 종로구 누상동 옥인6길 37-8  19.0      4  315000000       331509150   \n",
       "467596       서울특별시 종로구 누상동 옥인6길 37-8  20.0      4  340000000       362113260   \n",
       "467597      서울특별시 종로구 누상동 필운대로5가길 47  18.0      3  259000000       272574190   \n",
       "\n",
       "        cost_reflected_log        lat         lng  \\\n",
       "0                18.824411  37.539104  126.850152   \n",
       "1                18.827723  37.538891  126.850495   \n",
       "2                18.763185  37.539032  126.850837   \n",
       "3                18.548340  37.534759  126.848531   \n",
       "4                18.572831  37.545873  126.850574   \n",
       "...                    ...        ...         ...   \n",
       "467593           20.120422  37.580451  126.966941   \n",
       "467594           19.586905  37.581046  126.965595   \n",
       "467595           19.619166  37.580357  126.965185   \n",
       "467596           19.707468  37.580357  126.965185   \n",
       "467597           19.423421  37.580594  126.966598   \n",
       "\n",
       "                                           geometry  sch_name  \\\n",
       "0       POINT (186756.5773103896 548854.7601730863)  서울화일초등학교   \n",
       "1       POINT (186786.8273415241 548831.0715477165)  서울화일초등학교   \n",
       "2        POINT (186817.0602029711 548846.595173208)  서울화일초등학교   \n",
       "3       POINT (186612.5021680367 548372.7143265564)  서울신정초등학교   \n",
       "4       POINT (186794.9877836591 549605.9782850359)  서울화곡초등학교   \n",
       "...                                             ...       ...   \n",
       "467593   POINT (197079.8558931934 553433.716339696)  서울청운초등학교   \n",
       "467594  POINT (196961.0490559293 553499.7639050998)  서울청운초등학교   \n",
       "467595  POINT (196924.7525303085 553423.3727399055)  서울청운초등학교   \n",
       "467596  POINT (196924.7525303085 553423.3727399055)  서울청운초등학교   \n",
       "467597  POINT (197049.5818439329 553449.5984140983)  서울청운초등학교   \n",
       "\n",
       "        score_grade6_prop  hakwon_cnt  hakwon_cnt_log  \n",
       "0                  -1.399        26.0        3.295837  \n",
       "1                  -1.399        22.0        3.135494  \n",
       "2                  -1.399        20.0        3.044522  \n",
       "3                   1.429        49.0        3.912023  \n",
       "4                   2.716        28.0        3.367296  \n",
       "...                   ...         ...             ...  \n",
       "467593              3.505        22.0        3.135494  \n",
       "467594              3.505        18.0        2.944439  \n",
       "467595              3.505        11.0        2.484907  \n",
       "467596              3.505        11.0        2.484907  \n",
       "467597              3.505        20.0        3.044522  \n",
       "\n",
       "[467598 rows x 13 columns]"
      ]
     },
     "metadata": {},
     "execution_count": 25
    }
   ],
   "metadata": {}
  },
  {
   "cell_type": "code",
   "execution_count": 28,
   "source": [
    "lm = smf.ols(formula = \"cost_reflected_log ~ score_grade6_prop\", data=TRANSACTION).fit()\r\n",
    "print(lm.summary())"
   ],
   "outputs": [
    {
     "output_type": "stream",
     "name": "stdout",
     "text": [
      "                            OLS Regression Results                            \n",
      "==============================================================================\n",
      "Dep. Variable:     cost_reflected_log   R-squared:                       0.000\n",
      "Model:                            OLS   Adj. R-squared:                  0.000\n",
      "Method:                 Least Squares   F-statistic:                     12.11\n",
      "Date:                Tue, 14 Sep 2021   Prob (F-statistic):           0.000502\n",
      "Time:                        22:27:01   Log-Likelihood:            -3.5973e+05\n",
      "No. Observations:              467552   AIC:                         7.195e+05\n",
      "Df Residuals:                  467550   BIC:                         7.195e+05\n",
      "Df Model:                           1                                         \n",
      "Covariance Type:            nonrobust                                         \n",
      "=====================================================================================\n",
      "                        coef    std err          t      P>|t|      [0.025      0.975]\n",
      "-------------------------------------------------------------------------------------\n",
      "Intercept            19.1809      0.001   2.21e+04      0.000      19.179      19.183\n",
      "score_grade6_prop     0.0008      0.000      3.479      0.001       0.000       0.001\n",
      "==============================================================================\n",
      "Omnibus:                    28625.567   Durbin-Watson:                   0.616\n",
      "Prob(Omnibus):                  0.000   Jarque-Bera (JB):            72668.890\n",
      "Skew:                           0.362   Prob(JB):                         0.00\n",
      "Kurtosis:                       4.791   Cond. No.                         4.57\n",
      "==============================================================================\n",
      "\n",
      "Notes:\n",
      "[1] Standard Errors assume that the covariance matrix of the errors is correctly specified.\n"
     ]
    }
   ],
   "metadata": {}
  },
  {
   "cell_type": "code",
   "execution_count": 35,
   "source": [
    "print(\"R-squared: \", lm.rsquared)\r\n",
    "print(\"coefficient of score_grade6_prop: \",lm.params[1])\r\n",
    "print(\"p-value of score_grade6_prop: \", lm.pvalues[1])\r\n"
   ],
   "outputs": [
    {
     "output_type": "stream",
     "name": "stdout",
     "text": [
      "R-squared:  2.58930927637957e-05\n",
      "coefficient of score_grade6_prop:  0.0007658127037924445\n",
      "p-value of score_grade6_prop:  0.0005024745645543591\n"
     ]
    }
   ],
   "metadata": {}
  },
  {
   "cell_type": "code",
   "execution_count": 36,
   "source": [
    "lm = smf.ols(formula = \"cost_reflected_log ~ hakwon_cnt_log\", data=TRANSACTION).fit()\r\n",
    "print(lm.summary())"
   ],
   "outputs": [
    {
     "output_type": "stream",
     "name": "stdout",
     "text": [
      "                            OLS Regression Results                            \n",
      "==============================================================================\n",
      "Dep. Variable:     cost_reflected_log   R-squared:                       0.002\n",
      "Model:                            OLS   Adj. R-squared:                  0.002\n",
      "Method:                 Least Squares   F-statistic:                     1147.\n",
      "Date:                Wed, 15 Sep 2021   Prob (F-statistic):          5.10e-251\n",
      "Time:                        00:52:42   Log-Likelihood:            -3.5916e+05\n",
      "No. Observations:              467552   AIC:                         7.183e+05\n",
      "Df Residuals:                  467550   BIC:                         7.183e+05\n",
      "Df Model:                           1                                         \n",
      "Covariance Type:            nonrobust                                         \n",
      "==================================================================================\n",
      "                     coef    std err          t      P>|t|      [0.025      0.975]\n",
      "----------------------------------------------------------------------------------\n",
      "Intercept         19.0632      0.004   5295.528      0.000      19.056      19.070\n",
      "hakwon_cnt_log     0.0328      0.001     33.861      0.000       0.031       0.035\n",
      "==============================================================================\n",
      "Omnibus:                    30693.748   Durbin-Watson:                   0.617\n",
      "Prob(Omnibus):                  0.000   Jarque-Bera (JB):            78737.173\n",
      "Skew:                           0.386   Prob(JB):                         0.00\n",
      "Kurtosis:                       4.856   Cond. No.                         18.8\n",
      "==============================================================================\n",
      "\n",
      "Notes:\n",
      "[1] Standard Errors assume that the covariance matrix of the errors is correctly specified.\n"
     ]
    }
   ],
   "metadata": {}
  },
  {
   "cell_type": "code",
   "execution_count": 37,
   "source": [
    "print(\"R-squared: \", lm.rsquared)\r\n",
    "print(\"coefficient of log(hakwon_cnt): \",lm.params[1])\r\n",
    "print(\"p-value of log(hakwon_cnt): \", lm.pvalues[1])\r\n"
   ],
   "outputs": [
    {
     "output_type": "stream",
     "name": "stdout",
     "text": [
      "R-squared:  0.002446250682426876\n",
      "coefficient of log(hakwon_cnt):  0.03280148840557007\n",
      "p-value of log(hakwon_cnt):  5.095191311071074e-251\n"
     ]
    }
   ],
   "metadata": {}
  },
  {
   "cell_type": "markdown",
   "source": [
    "# 변수 간 상관분석"
   ],
   "metadata": {}
  },
  {
   "cell_type": "code",
   "execution_count": 48,
   "source": [
    "V_LOCATION[['score_grade6_prop','hakwon_cnt_log']].corr()"
   ],
   "outputs": [
    {
     "output_type": "execute_result",
     "data": {
      "text/html": [
       "<div>\n",
       "<style scoped>\n",
       "    .dataframe tbody tr th:only-of-type {\n",
       "        vertical-align: middle;\n",
       "    }\n",
       "\n",
       "    .dataframe tbody tr th {\n",
       "        vertical-align: top;\n",
       "    }\n",
       "\n",
       "    .dataframe thead th {\n",
       "        text-align: right;\n",
       "    }\n",
       "</style>\n",
       "<table border=\"1\" class=\"dataframe\">\n",
       "  <thead>\n",
       "    <tr style=\"text-align: right;\">\n",
       "      <th></th>\n",
       "      <th>score_grade6_prop</th>\n",
       "      <th>hakwon_cnt_log</th>\n",
       "    </tr>\n",
       "  </thead>\n",
       "  <tbody>\n",
       "    <tr>\n",
       "      <th>score_grade6_prop</th>\n",
       "      <td>1.000000</td>\n",
       "      <td>-0.001795</td>\n",
       "    </tr>\n",
       "    <tr>\n",
       "      <th>hakwon_cnt_log</th>\n",
       "      <td>-0.001795</td>\n",
       "      <td>1.000000</td>\n",
       "    </tr>\n",
       "  </tbody>\n",
       "</table>\n",
       "</div>"
      ],
      "text/plain": [
       "                   score_grade6_prop  hakwon_cnt_log\n",
       "score_grade6_prop           1.000000       -0.001795\n",
       "hakwon_cnt_log             -0.001795        1.000000"
      ]
     },
     "metadata": {},
     "execution_count": 48
    }
   ],
   "metadata": {}
  },
  {
   "cell_type": "markdown",
   "source": [
    "# 교육여건 주성분분석"
   ],
   "metadata": {}
  },
  {
   "cell_type": "code",
   "execution_count": 38,
   "source": [
    "from sklearn.preprocessing import StandardScaler \r\n",
    "from sklearn.decomposition import PCA\r\n"
   ],
   "outputs": [],
   "metadata": {}
  },
  {
   "cell_type": "code",
   "execution_count": 46,
   "source": [
    "x = V_LOCATION[['score_grade6_prop','hakwon_cnt_log']]\r\n",
    "#x = StandardScaler().fit_transform(x) # x 표준화"
   ],
   "outputs": [],
   "metadata": {}
  },
  {
   "cell_type": "code",
   "execution_count": 47,
   "source": [
    "pca = PCA(n_components=1) # 주성분을 몇개로 할지 결정\r\n",
    "printcipalComponents = pca.fit_transform(x)\r\n",
    "\r\n",
    "pca.explained_variance_ratio_\r\n",
    "#sum(pca.explained_variance_ratio_)"
   ],
   "outputs": [
    {
     "output_type": "execute_result",
     "data": {
      "text/plain": [
       "array([0.95415842])"
      ]
     },
     "metadata": {},
     "execution_count": 47
    }
   ],
   "metadata": {}
  },
  {
   "cell_type": "code",
   "execution_count": null,
   "source": [
    "principalDf = pd.DataFrame(data=printcipalComponents, columns = ['principal component1', 'principal component2']) # 주성분으로 이루어진 df\r\n",
    "\r\n",
    "V_LOCATION = pd.concat([V_LOCATION, principalDf], axis=1)\r\n",
    "\r\n",
    "\r\n",
    "\r\n",
    "md = smf.ols(formula = \"cost_reflected_log ~ principal_component1+principal_component2\", data=TRANSACTION_VILLA_A)\r\n",
    "result = md.fit()\r\n",
    "print(result.summary())"
   ],
   "outputs": [],
   "metadata": {}
  },
  {
   "cell_type": "code",
   "execution_count": null,
   "source": [],
   "outputs": [],
   "metadata": {}
  }
 ],
 "metadata": {
  "orig_nbformat": 4,
  "language_info": {
   "name": "python",
   "version": "3.8.8",
   "mimetype": "text/x-python",
   "codemirror_mode": {
    "name": "ipython",
    "version": 3
   },
   "pygments_lexer": "ipython3",
   "nbconvert_exporter": "python",
   "file_extension": ".py"
  },
  "kernelspec": {
   "name": "python3",
   "display_name": "Python 3.8.8 64-bit"
  },
  "interpreter": {
   "hash": "b3ba2566441a7c06988d0923437866b63cedc61552a5af99d1f4fb67d367b25f"
  }
 },
 "nbformat": 4,
 "nbformat_minor": 2
}