{
 "cells": [
  {
   "cell_type": "code",
   "execution_count": 11,
   "source": [
    "import pandas as pd\r\n",
    "import numpy as np\r\n",
    "import openpyxl\r\n",
    "from haversine import haversine # 거리계산(input: from,to point/ output:거리(km))\r\n",
    "import matplotlib.pyplot as plt\r\n",
    "\r\n",
    "# user-defined modules\r\n",
    "import _path"
   ],
   "outputs": [],
   "metadata": {}
  },
  {
   "cell_type": "code",
   "execution_count": 5,
   "source": [
    "path  = _path.path\r\n",
    "pathX = _path.pathX\r\n",
    "pathY = _path.pathX"
   ],
   "outputs": [],
   "metadata": {}
  },
  {
   "cell_type": "markdown",
   "source": [
    "# 실거래 이력이 있는 주소지 반경 500m 내 학원 수"
   ],
   "metadata": {}
  },
  {
   "cell_type": "markdown",
   "source": [
    "## 1. 실거래 이력이 있는 주소"
   ],
   "metadata": {}
  },
  {
   "cell_type": "code",
   "execution_count": 7,
   "source": [
    "filename = \"V_LOCATION.xlsx\"\r\n",
    "V_LOCATION = pd.read_excel(path+\"\\\\\"+filename,sheet_name = 0, header=0)"
   ],
   "outputs": [],
   "metadata": {}
  },
  {
   "cell_type": "markdown",
   "source": [
    "## 2. 서울시 학원 정보 가져오기"
   ],
   "metadata": {}
  },
  {
   "cell_type": "code",
   "execution_count": 6,
   "source": [
    "filename = \"서울특별시 학원 교습소정보_add.xlsx\"  # 원 파일에 위경도 정보 붙임.\r\n",
    "hakwon_all = pd.read_excel(pathX+\"\\\\\"+filename,sheet_name = 0, header=0)"
   ],
   "outputs": [],
   "metadata": {}
  },
  {
   "cell_type": "code",
   "execution_count": 8,
   "source": [
    "HAKWON = hakwon_all[['학원지정번호','학원명','X','Y']]\r\n",
    "HAKWON.columns = ['hakwon_id','hakown_nm','lng','lat']"
   ],
   "outputs": [],
   "metadata": {}
  },
  {
   "cell_type": "code",
   "execution_count": null,
   "source": [
    "def count_hakwon(point_lat, point_lng):\r\n",
    "    start = (point_lat, point_lng)\r\n",
    "    count = 0\r\n",
    "    margin = 0.06 # 약 600m\r\n",
    "    \r\n",
    "    hakwon_subset = HAKWON[(HAKWON.lat > point_lat-margin) & (HAKWON.lat < point_lat+margin) & (HAKWON.lng > point_lng-margin) & (HAKWON.lng < point_lng+margin)]\r\n",
    "    hakwon_subset['goal'] = 0\r\n",
    "    row_cnt = hakwon_subset.shape[0]\r\n",
    "    if row_cnt == 0: # 반경 600m 내에 학원이 없는 경우\r\n",
    "        return count\r\n",
    "    else:\r\n",
    "        hakwon_subset['goal'] = hakwon_subset.apply(lambda x: (x.lat, x.lng), axis=1)\r\n",
    "\r\n",
    "        for idx, row in hakwon_subset.iterrows():\r\n",
    "            dist = haversine(start, row.goal)\r\n",
    "            # 반경 500m 내 학원 숫자 count\r\n",
    "            if dist <= 0.5:\r\n",
    "                count += 1\r\n",
    "            else:\r\n",
    "                continue   \r\n",
    "        return count"
   ],
   "outputs": [],
   "metadata": {}
  },
  {
   "cell_type": "code",
   "execution_count": null,
   "source": [
    "for idx_t, trans in V_LOCATION.iterrows():\r\n",
    "    cnt = count_hakwon(trans.lat,trans.lng)\r\n",
    "    if idx_t%100 == 0:\r\n",
    "        print(idx_t, cnt)                                                               # monitoring\r\n",
    "        print(\"---------------------------------------------------------------------\")  # monitoring\r\n",
    "    V_LOCATION.loc[idx_t,'hakwon_cnt'] = cnt"
   ],
   "outputs": [],
   "metadata": {}
  },
  {
   "cell_type": "markdown",
   "source": [
    "# 파일로 백업해둔 내용 load"
   ],
   "metadata": {}
  },
  {
   "cell_type": "code",
   "execution_count": 10,
   "source": [
    "filename = \"V_LOCATION_edited_3.xlsx\"\r\n",
    "V_LOCATION = pd.read_excel(path+\"\\\\\"+filename,sheet_name = 0, header=0)"
   ],
   "outputs": [],
   "metadata": {}
  },
  {
   "cell_type": "code",
   "execution_count": 12,
   "source": [
    "plt.rc('font', family='malgun gothic')\r\n",
    "plt.rcParams['axes.unicode_minus'] = False  # 축 마이너스값 깨짐 방지용"
   ],
   "outputs": [],
   "metadata": {}
  },
  {
   "cell_type": "code",
   "execution_count": 14,
   "source": [
    "import seaborn as sns\r\n",
    "\r\n",
    "ax = sns.distplot(V_LOCATION.hakwon_cnt, \r\n",
    "                      hist=True, \r\n",
    "                      kde=True, \r\n",
    "                      bins=10, \r\n",
    "                      color='blue', \r\n",
    "                      hist_kws={'edgecolor': 'gray'}, \r\n",
    "                      kde_kws={'linewidth': 2})\r\n",
    "#ax.set_title('title')\r\n",
    "ax.set_xlabel('반경 100m 내 학원 수')\r\n",
    "ax.set_ylabel('Density')\r\n",
    "plt.show()"
   ],
   "outputs": [
    {
     "output_type": "stream",
     "name": "stderr",
     "text": [
      "C:\\ProgramData\\Anaconda3\\lib\\site-packages\\seaborn\\distributions.py:2557: FutureWarning: `distplot` is a deprecated function and will be removed in a future version. Please adapt your code to use either `displot` (a figure-level function with similar flexibility) or `histplot` (an axes-level function for histograms).\n",
      "  warnings.warn(msg, FutureWarning)\n"
     ]
    },
    {
     "output_type": "display_data",
     "data": {
      "image/png": "[encoded data removed]",
      "text/plain": [
       "<Figure size 432x288 with 1 Axes>"
      ]
     },
     "metadata": {
      "needs_background": "light"
     }
    }
   ],
   "metadata": {}
  },
  {
   "cell_type": "code",
   "execution_count": 16,
   "source": [
    "V_LOCATION['hakwon_cnt_log'] = V_LOCATION['hakwon_cnt'].apply(lambda x: np.log(x+1))"
   ],
   "outputs": [],
   "metadata": {}
  },
  {
   "cell_type": "code",
   "execution_count": 20,
   "source": [
    "import seaborn as sns\r\n",
    "\r\n",
    "ax = sns.distplot(V_LOCATION.hakwon_cnt_log, \r\n",
    "                      hist=True, \r\n",
    "                      kde=True, \r\n",
    "                      bins=10, \r\n",
    "                      color='blue', \r\n",
    "                      hist_kws={'edgecolor': 'gray'}, \r\n",
    "                      kde_kws={'linewidth': 2})\r\n",
    "#ax.set_title('title')\r\n",
    "ax.set_xlabel('log(반경 100m 내 학원 수)')\r\n",
    "ax.set_ylabel('Density')\r\n",
    "plt.show()"
   ],
   "outputs": [
    {
     "output_type": "stream",
     "name": "stderr",
     "text": [
      "C:\\ProgramData\\Anaconda3\\lib\\site-packages\\seaborn\\distributions.py:2557: FutureWarning: `distplot` is a deprecated function and will be removed in a future version. Please adapt your code to use either `displot` (a figure-level function with similar flexibility) or `histplot` (an axes-level function for histograms).\n",
      "  warnings.warn(msg, FutureWarning)\n"
     ]
    },
    {
     "output_type": "display_data",
     "data": {
      "image/png": "[encoded data removed]",
      "text/plain": [
       "<Figure size 432x288 with 1 Axes>"
      ]
     },
     "metadata": {
      "needs_background": "light"
     }
    }
   ],
   "metadata": {}
  },
  {
   "cell_type": "code",
   "execution_count": 23,
   "source": [
    "V_LOCATION.hakwon_cnt_log.describe()"
   ],
   "outputs": [
    {
     "output_type": "execute_result",
     "data": {
      "text/plain": [
       "count    78040.000000\n",
       "mean         3.607742\n",
       "std          0.796583\n",
       "min          0.000000\n",
       "25%          3.218876\n",
       "50%          3.688879\n",
       "75%          4.127134\n",
       "max          6.912743\n",
       "Name: hakwon_cnt_log, dtype: float64"
      ]
     },
     "metadata": {},
     "execution_count": 23
    }
   ],
   "metadata": {}
  }
 ],
 "metadata": {
  "orig_nbformat": 4,
  "language_info": {
   "name": "python",
   "version": "3.8.8",
   "mimetype": "text/x-python",
   "codemirror_mode": {
    "name": "ipython",
    "version": 3
   },
   "pygments_lexer": "ipython3",
   "nbconvert_exporter": "python",
   "file_extension": ".py"
  },
  "kernelspec": {
   "name": "python3",
   "display_name": "Python 3.8.8 64-bit"
  },
  "interpreter": {
   "hash": "b3ba2566441a7c06988d0923437866b63cedc61552a5af99d1f4fb67d367b25f"
  }
 },
 "nbformat": 4,
 "nbformat_minor": 2
}