{
 "cells": [
  {
   "cell_type": "code",
   "execution_count": 12,
   "source": [
    "import pandas as pd\r\n",
    "import numpy as np\r\n",
    "import openpyxl\r\n",
    "\r\n",
    "# user-defined modules\r\n",
    "import _path"
   ],
   "outputs": [],
   "metadata": {}
  },
  {
   "cell_type": "code",
   "execution_count": 15,
   "source": [
    "path  = _path.path\r\n",
    "pathX = _path.pathX\r\n",
    "pathY = _path.pathX"
   ],
   "outputs": [],
   "metadata": {}
  },
  {
   "cell_type": "markdown",
   "source": [
    "# 서울시 초등학교 정보"
   ],
   "metadata": {}
  },
  {
   "cell_type": "markdown",
   "source": [
    "## 1. 서울시 초등학교 학년별 구성 정보 가져오기"
   ],
   "metadata": {}
  },
  {
   "cell_type": "code",
   "execution_count": 3,
   "source": [
    "# 서울특별시교육청(http://www.sen.go.kr/)\r\n",
    "# 정보공개>서울교육통계>연도별 학교현황\r\n",
    "# 게시글 제목: %학교 일람표\r\n",
    "# - 서울시 학교별 기본 현황 자료(학급수, 학생수, 교원수) 제공\r\n",
    "filename=\"20200401기준_학교일람표.xlsx\""
   ],
   "outputs": [],
   "metadata": {}
  },
  {
   "cell_type": "code",
   "execution_count": 4,
   "source": [
    "wb = openpyxl.load_workbook(pathX+\"\\\\\"+filename)"
   ],
   "outputs": [],
   "metadata": {}
  },
  {
   "cell_type": "code",
   "execution_count": 5,
   "source": [
    "# sheetname 확인\r\n",
    "wb.sheetnames"
   ],
   "outputs": [
    {
     "output_type": "execute_result",
     "data": {
      "text/plain": [
       "['정오표',\n",
       " '유치원',\n",
       " '초등학교',\n",
       " '중학교',\n",
       " '고등학교',\n",
       " '특수학교',\n",
       " '각종학교',\n",
       " '고등기술학교',\n",
       " '방송통신중',\n",
       " '방송통신고']"
      ]
     },
     "metadata": {},
     "execution_count": 5
    }
   ],
   "metadata": {}
  },
  {
   "cell_type": "code",
   "execution_count": 6,
   "source": [
    "df = pd.read_excel(pathX+\"\\\\\"+filename, sheet_name=\"초등학교\")"
   ],
   "outputs": [],
   "metadata": {}
  },
  {
   "cell_type": "code",
   "execution_count": 7,
   "source": [
    "# 컬럼명 재지정 위함\r\n",
    "col_list = [\"kk\",\"소재구\",\"학교명\",\"설립\",\"kk\",\"kk\",\"주소\",\"kk\" #전화번호까지\r\n",
    "            ,\"kk\",\"kk\",\"kk\",\"kk\",\"kk\",\"kk\",\"kk\",\"kk\",\"kk\" # 학급수\r\n",
    "            ,\"1학년\",\"kk\",\"2학년\",\"kk\",\"3학년\",\"kk\",\"4학년\",\"kk\",\"5학년\",\"kk\",\"6학년\",\"kk\",\"kk\",\"kk\",\"kk\",\"kk\",\"kk\",\"kk\" #학생수\r\n",
    "            ,\"학급당평균학생수\"\r\n",
    "            ,\"교원수\",\"kk\",\"kk\",\"kk\",\"kk\",\"kk\" #교원수\r\n",
    "            ,\"kk\",\"kk\",\"kk\",\"kk\",\"kk\",\"kk\" #직원수\r\n",
    "            ,\"교실수\"]"
   ],
   "outputs": [],
   "metadata": {}
  },
  {
   "cell_type": "code",
   "execution_count": 8,
   "source": [
    "df.columns = col_list"
   ],
   "outputs": [],
   "metadata": {
    "scrolled": true
   }
  },
  {
   "cell_type": "code",
   "execution_count": 9,
   "source": [
    "# 불필요한 row 삭제\r\n",
    "df = df.drop(index=[0,1,2,3,611,612,613,614],axis=0) #axis=0 : row"
   ],
   "outputs": [],
   "metadata": {}
  },
  {
   "cell_type": "code",
   "execution_count": 10,
   "source": [
    "# 필요한 컬럼만 남기기\r\n",
    "df = df[[\"학교명\",\"설립\",\"소재구\",\"1학년\",\"2학년\",\"3학년\",\"4학년\",\"5학년\",\"6학년\",\"학급당평균학생수\",\"주소\"]]"
   ],
   "outputs": [],
   "metadata": {}
  },
  {
   "cell_type": "code",
   "execution_count": 11,
   "source": [
    "# 데이터 타입 변환(str->numeric)\r\n",
    "df[[\"1학년\",\"2학년\",\"3학년\",\"4학년\",\"5학년\",\"6학년\",\"학급당평균학생수\"]] = df[[\"1학년\",\"2학년\",\"3학년\",\"4학년\",\"5학년\",\"6학년\",\"학급당평균학생수\"]].apply(pd.to_numeric)\r\n",
    "# 한 컬럼씩 할 때는 np.astype(int) 동작함. 여러 컬럼을 한번에 할 때는 apply 사용"
   ],
   "outputs": [],
   "metadata": {}
  },
  {
   "cell_type": "code",
   "execution_count": null,
   "source": [
    "df.설립.value_counts()"
   ],
   "outputs": [],
   "metadata": {
    "scrolled": true
   }
  },
  {
   "cell_type": "code",
   "execution_count": 12,
   "source": [
    "# 전학이 자유로운 공립학교만 남김\r\n",
    "df = df[df.설립=='공립']\r\n",
    "\r\n",
    "# 새로 지어진 학교는 제외\r\n",
    "df = df[df['1학년']!=0]"
   ],
   "outputs": [],
   "metadata": {}
  },
  {
   "cell_type": "code",
   "execution_count": 13,
   "source": [
    "# reset index\r\n",
    "df.reset_index(drop=True, inplace=True)"
   ],
   "outputs": [],
   "metadata": {}
  },
  {
   "cell_type": "code",
   "execution_count": null,
   "source": [
    "df.info()"
   ],
   "outputs": [],
   "metadata": {}
  },
  {
   "cell_type": "code",
   "execution_count": 14,
   "source": [
    "df['전교생'] = df['1학년']+df['2학년']+df['3학년']+df['4학년']+df['5학년']+df['6학년']"
   ],
   "outputs": [],
   "metadata": {}
  },
  {
   "cell_type": "code",
   "execution_count": 15,
   "source": [
    "df['1학년비율'] = round(df['1학년']/df['전교생']*100,3)\r\n",
    "df['2학년비율'] = round(df['2학년']/df['전교생']*100,3)\r\n",
    "df['3학년비율'] = round(df['3학년']/df['전교생']*100,3)\r\n",
    "df['4학년비율'] = round(df['4학년']/df['전교생']*100,3)\r\n",
    "df['5학년비율'] = round(df['5학년']/df['전교생']*100,3)\r\n",
    "df['6학년비율'] = round(df['6학년']/df['전교생']*100,3)"
   ],
   "outputs": [],
   "metadata": {}
  },
  {
   "cell_type": "code",
   "execution_count": 16,
   "source": [
    "# 4월1일 기준이니까. 학년초 전입전출 끝났다고 보고. 좋은 학군이어서 중학교 배정 잘 받으려고 전학 온 아이들 많은지 보는 건\r\n",
    "# 1학년 6학년 학생수 비율로 비교해서 그 차이값 만큼 점수를 가져가자\r\n",
    "# 16.667 보다 많은 비율 가지고 있는 학교에 한해서 점수를 주는 방법도 고민했었는데. 그냥 1,6학년 비율 비교하는게 심플하여 이처럼 결정.\r\n",
    "df['6학년비율점수']= df['6학년비율'] - df['1학년비율']\r\n",
    "#df['학생수비율점수1']= df['6학년비율'] - df['1학년비율']\r\n",
    "#df['학생수비율점수2']= round((df['6학년'] - df['5학년']) / df['6학년']*100,3)"
   ],
   "outputs": [],
   "metadata": {}
  },
  {
   "cell_type": "code",
   "execution_count": 17,
   "source": [
    "# 6학년비율점수: 소숫점 셋째자리까지\r\n",
    "df['6학년비율점수'] = df['6학년비율점수'].round(3)"
   ],
   "outputs": [],
   "metadata": {}
  },
  {
   "cell_type": "code",
   "execution_count": 18,
   "source": [
    "df"
   ],
   "outputs": [
    {
     "output_type": "execute_result",
     "data": {
      "text/html": [
       "<div>\n",
       "<style scoped>\n",
       "    .dataframe tbody tr th:only-of-type {\n",
       "        vertical-align: middle;\n",
       "    }\n",
       "\n",
       "    .dataframe tbody tr th {\n",
       "        vertical-align: top;\n",
       "    }\n",
       "\n",
       "    .dataframe thead th {\n",
       "        text-align: right;\n",
       "    }\n",
       "</style>\n",
       "<table border=\"1\" class=\"dataframe\">\n",
       "  <thead>\n",
       "    <tr style=\"text-align: right;\">\n",
       "      <th></th>\n",
       "      <th>학교명</th>\n",
       "      <th>설립</th>\n",
       "      <th>소재구</th>\n",
       "      <th>1학년</th>\n",
       "      <th>2학년</th>\n",
       "      <th>3학년</th>\n",
       "      <th>4학년</th>\n",
       "      <th>5학년</th>\n",
       "      <th>6학년</th>\n",
       "      <th>학급당평균학생수</th>\n",
       "      <th>주소</th>\n",
       "      <th>전교생</th>\n",
       "      <th>1학년비율</th>\n",
       "      <th>2학년비율</th>\n",
       "      <th>3학년비율</th>\n",
       "      <th>4학년비율</th>\n",
       "      <th>5학년비율</th>\n",
       "      <th>6학년비율</th>\n",
       "      <th>6학년비율점수</th>\n",
       "    </tr>\n",
       "  </thead>\n",
       "  <tbody>\n",
       "    <tr>\n",
       "      <th>0</th>\n",
       "      <td>서울교동초등학교</td>\n",
       "      <td>공립</td>\n",
       "      <td>종로구</td>\n",
       "      <td>21</td>\n",
       "      <td>39</td>\n",
       "      <td>33</td>\n",
       "      <td>34</td>\n",
       "      <td>29</td>\n",
       "      <td>21</td>\n",
       "      <td>15.000000</td>\n",
       "      <td>서울특별시 종로구 삼일대로 446 (경운동)</td>\n",
       "      <td>177</td>\n",
       "      <td>11.864</td>\n",
       "      <td>22.034</td>\n",
       "      <td>18.644</td>\n",
       "      <td>19.209</td>\n",
       "      <td>16.384</td>\n",
       "      <td>11.864</td>\n",
       "      <td>0.000</td>\n",
       "    </tr>\n",
       "    <tr>\n",
       "      <th>1</th>\n",
       "      <td>서울독립문초등학교</td>\n",
       "      <td>공립</td>\n",
       "      <td>종로구</td>\n",
       "      <td>82</td>\n",
       "      <td>82</td>\n",
       "      <td>86</td>\n",
       "      <td>73</td>\n",
       "      <td>93</td>\n",
       "      <td>75</td>\n",
       "      <td>19.076923</td>\n",
       "      <td>서울특별시 종로구 통일로12길 23 (무악동. 독립문초등학교)</td>\n",
       "      <td>491</td>\n",
       "      <td>16.701</td>\n",
       "      <td>16.701</td>\n",
       "      <td>17.515</td>\n",
       "      <td>14.868</td>\n",
       "      <td>18.941</td>\n",
       "      <td>15.275</td>\n",
       "      <td>-1.426</td>\n",
       "    </tr>\n",
       "    <tr>\n",
       "      <th>2</th>\n",
       "      <td>서울매동초등학교</td>\n",
       "      <td>공립</td>\n",
       "      <td>종로구</td>\n",
       "      <td>26</td>\n",
       "      <td>42</td>\n",
       "      <td>27</td>\n",
       "      <td>46</td>\n",
       "      <td>22</td>\n",
       "      <td>46</td>\n",
       "      <td>14.466667</td>\n",
       "      <td>서울특별시 종로구 사직로9길 19 . 서울매동초등학교 (필운동)</td>\n",
       "      <td>209</td>\n",
       "      <td>12.440</td>\n",
       "      <td>20.096</td>\n",
       "      <td>12.919</td>\n",
       "      <td>22.010</td>\n",
       "      <td>10.526</td>\n",
       "      <td>22.010</td>\n",
       "      <td>9.570</td>\n",
       "    </tr>\n",
       "    <tr>\n",
       "      <th>3</th>\n",
       "      <td>서울명신초등학교</td>\n",
       "      <td>공립</td>\n",
       "      <td>종로구</td>\n",
       "      <td>54</td>\n",
       "      <td>76</td>\n",
       "      <td>42</td>\n",
       "      <td>46</td>\n",
       "      <td>69</td>\n",
       "      <td>78</td>\n",
       "      <td>18.450000</td>\n",
       "      <td>서울특별시 종로구 낙산길 250 (창신동)</td>\n",
       "      <td>365</td>\n",
       "      <td>14.795</td>\n",
       "      <td>20.822</td>\n",
       "      <td>11.507</td>\n",
       "      <td>12.603</td>\n",
       "      <td>18.904</td>\n",
       "      <td>21.370</td>\n",
       "      <td>6.575</td>\n",
       "    </tr>\n",
       "    <tr>\n",
       "      <th>4</th>\n",
       "      <td>서울세검정초등학교</td>\n",
       "      <td>공립</td>\n",
       "      <td>종로구</td>\n",
       "      <td>115</td>\n",
       "      <td>160</td>\n",
       "      <td>133</td>\n",
       "      <td>166</td>\n",
       "      <td>127</td>\n",
       "      <td>140</td>\n",
       "      <td>22.837838</td>\n",
       "      <td>서울특별시 종로구 세검정로9길 1 (신영동.서울세검정초등학교)</td>\n",
       "      <td>841</td>\n",
       "      <td>13.674</td>\n",
       "      <td>19.025</td>\n",
       "      <td>15.815</td>\n",
       "      <td>19.738</td>\n",
       "      <td>15.101</td>\n",
       "      <td>16.647</td>\n",
       "      <td>2.973</td>\n",
       "    </tr>\n",
       "    <tr>\n",
       "      <th>...</th>\n",
       "      <td>...</td>\n",
       "      <td>...</td>\n",
       "      <td>...</td>\n",
       "      <td>...</td>\n",
       "      <td>...</td>\n",
       "      <td>...</td>\n",
       "      <td>...</td>\n",
       "      <td>...</td>\n",
       "      <td>...</td>\n",
       "      <td>...</td>\n",
       "      <td>...</td>\n",
       "      <td>...</td>\n",
       "      <td>...</td>\n",
       "      <td>...</td>\n",
       "      <td>...</td>\n",
       "      <td>...</td>\n",
       "      <td>...</td>\n",
       "      <td>...</td>\n",
       "      <td>...</td>\n",
       "    </tr>\n",
       "    <tr>\n",
       "      <th>557</th>\n",
       "      <td>서울신암초등학교</td>\n",
       "      <td>공립</td>\n",
       "      <td>강동구</td>\n",
       "      <td>121</td>\n",
       "      <td>169</td>\n",
       "      <td>137</td>\n",
       "      <td>128</td>\n",
       "      <td>123</td>\n",
       "      <td>107</td>\n",
       "      <td>21.513514</td>\n",
       "      <td>서울특별시 강동구 올림픽로93길 33-16 . 서울신암초등학교 (암사동)</td>\n",
       "      <td>785</td>\n",
       "      <td>15.414</td>\n",
       "      <td>21.529</td>\n",
       "      <td>17.452</td>\n",
       "      <td>16.306</td>\n",
       "      <td>15.669</td>\n",
       "      <td>13.631</td>\n",
       "      <td>-1.783</td>\n",
       "    </tr>\n",
       "    <tr>\n",
       "      <th>558</th>\n",
       "      <td>서울천동초등학교</td>\n",
       "      <td>공립</td>\n",
       "      <td>강동구</td>\n",
       "      <td>136</td>\n",
       "      <td>157</td>\n",
       "      <td>127</td>\n",
       "      <td>143</td>\n",
       "      <td>141</td>\n",
       "      <td>102</td>\n",
       "      <td>20.450000</td>\n",
       "      <td>서울특별시 강동구 성안로 200 . 서울천동초등학교 (길동)</td>\n",
       "      <td>806</td>\n",
       "      <td>16.873</td>\n",
       "      <td>19.479</td>\n",
       "      <td>15.757</td>\n",
       "      <td>17.742</td>\n",
       "      <td>17.494</td>\n",
       "      <td>12.655</td>\n",
       "      <td>-4.218</td>\n",
       "    </tr>\n",
       "    <tr>\n",
       "      <th>559</th>\n",
       "      <td>서울천일초등학교</td>\n",
       "      <td>공립</td>\n",
       "      <td>강동구</td>\n",
       "      <td>41</td>\n",
       "      <td>57</td>\n",
       "      <td>54</td>\n",
       "      <td>60</td>\n",
       "      <td>40</td>\n",
       "      <td>72</td>\n",
       "      <td>17.368421</td>\n",
       "      <td>서울특별시 강동구 구천면로 266 . 서울천일초등학교 (천호동)</td>\n",
       "      <td>324</td>\n",
       "      <td>12.654</td>\n",
       "      <td>17.593</td>\n",
       "      <td>16.667</td>\n",
       "      <td>18.519</td>\n",
       "      <td>12.346</td>\n",
       "      <td>22.222</td>\n",
       "      <td>9.568</td>\n",
       "    </tr>\n",
       "    <tr>\n",
       "      <th>560</th>\n",
       "      <td>서울천호초등학교</td>\n",
       "      <td>공립</td>\n",
       "      <td>강동구</td>\n",
       "      <td>115</td>\n",
       "      <td>116</td>\n",
       "      <td>125</td>\n",
       "      <td>116</td>\n",
       "      <td>115</td>\n",
       "      <td>102</td>\n",
       "      <td>18.342105</td>\n",
       "      <td>서울특별시 강동구 구천면로 310-11 (천호동.서울천호초등학교)</td>\n",
       "      <td>689</td>\n",
       "      <td>16.691</td>\n",
       "      <td>16.836</td>\n",
       "      <td>18.142</td>\n",
       "      <td>16.836</td>\n",
       "      <td>16.691</td>\n",
       "      <td>14.804</td>\n",
       "      <td>-1.887</td>\n",
       "    </tr>\n",
       "    <tr>\n",
       "      <th>561</th>\n",
       "      <td>서울한산초등학교</td>\n",
       "      <td>공립</td>\n",
       "      <td>강동구</td>\n",
       "      <td>139</td>\n",
       "      <td>132</td>\n",
       "      <td>126</td>\n",
       "      <td>138</td>\n",
       "      <td>128</td>\n",
       "      <td>134</td>\n",
       "      <td>21.756757</td>\n",
       "      <td>서울특별시 강동구 풍성로 261 (서울한산초등학교. 둔촌동)</td>\n",
       "      <td>797</td>\n",
       "      <td>17.440</td>\n",
       "      <td>16.562</td>\n",
       "      <td>15.809</td>\n",
       "      <td>17.315</td>\n",
       "      <td>16.060</td>\n",
       "      <td>16.813</td>\n",
       "      <td>-0.627</td>\n",
       "    </tr>\n",
       "  </tbody>\n",
       "</table>\n",
       "<p>562 rows × 19 columns</p>\n",
       "</div>"
      ],
      "text/plain": [
       "           학교명  설립  소재구  1학년  2학년  3학년  4학년  5학년  6학년   학급당평균학생수  \\\n",
       "0     서울교동초등학교  공립  종로구   21   39   33   34   29   21  15.000000   \n",
       "1    서울독립문초등학교  공립  종로구   82   82   86   73   93   75  19.076923   \n",
       "2     서울매동초등학교  공립  종로구   26   42   27   46   22   46  14.466667   \n",
       "3     서울명신초등학교  공립  종로구   54   76   42   46   69   78  18.450000   \n",
       "4    서울세검정초등학교  공립  종로구  115  160  133  166  127  140  22.837838   \n",
       "..         ...  ..  ...  ...  ...  ...  ...  ...  ...        ...   \n",
       "557   서울신암초등학교  공립  강동구  121  169  137  128  123  107  21.513514   \n",
       "558   서울천동초등학교  공립  강동구  136  157  127  143  141  102  20.450000   \n",
       "559   서울천일초등학교  공립  강동구   41   57   54   60   40   72  17.368421   \n",
       "560   서울천호초등학교  공립  강동구  115  116  125  116  115  102  18.342105   \n",
       "561   서울한산초등학교  공립  강동구  139  132  126  138  128  134  21.756757   \n",
       "\n",
       "                                           주소  전교생   1학년비율   2학년비율   3학년비율  \\\n",
       "0                    서울특별시 종로구 삼일대로 446 (경운동)  177  11.864  22.034  18.644   \n",
       "1          서울특별시 종로구 통일로12길 23 (무악동. 독립문초등학교)  491  16.701  16.701  17.515   \n",
       "2         서울특별시 종로구 사직로9길 19 . 서울매동초등학교 (필운동)  209  12.440  20.096  12.919   \n",
       "3                     서울특별시 종로구 낙산길 250 (창신동)  365  14.795  20.822  11.507   \n",
       "4          서울특별시 종로구 세검정로9길 1 (신영동.서울세검정초등학교)  841  13.674  19.025  15.815   \n",
       "..                                        ...  ...     ...     ...     ...   \n",
       "557  서울특별시 강동구 올림픽로93길 33-16 . 서울신암초등학교 (암사동)  785  15.414  21.529  17.452   \n",
       "558         서울특별시 강동구 성안로 200 . 서울천동초등학교 (길동)  806  16.873  19.479  15.757   \n",
       "559       서울특별시 강동구 구천면로 266 . 서울천일초등학교 (천호동)  324  12.654  17.593  16.667   \n",
       "560      서울특별시 강동구 구천면로 310-11 (천호동.서울천호초등학교)  689  16.691  16.836  18.142   \n",
       "561         서울특별시 강동구 풍성로 261 (서울한산초등학교. 둔촌동)  797  17.440  16.562  15.809   \n",
       "\n",
       "      4학년비율   5학년비율   6학년비율  6학년비율점수  \n",
       "0    19.209  16.384  11.864    0.000  \n",
       "1    14.868  18.941  15.275   -1.426  \n",
       "2    22.010  10.526  22.010    9.570  \n",
       "3    12.603  18.904  21.370    6.575  \n",
       "4    19.738  15.101  16.647    2.973  \n",
       "..      ...     ...     ...      ...  \n",
       "557  16.306  15.669  13.631   -1.783  \n",
       "558  17.742  17.494  12.655   -4.218  \n",
       "559  18.519  12.346  22.222    9.568  \n",
       "560  16.836  16.691  14.804   -1.887  \n",
       "561  17.315  16.060  16.813   -0.627  \n",
       "\n",
       "[562 rows x 19 columns]"
      ]
     },
     "metadata": {},
     "execution_count": 18
    }
   ],
   "metadata": {}
  },
  {
   "cell_type": "markdown",
   "source": [
    "## 2. 서울시 초등학교 위/경도 얻기(GeoCoding ver.)"
   ],
   "metadata": {}
  },
  {
   "cell_type": "code",
   "execution_count": 5,
   "source": [
    "import googlemaps\r\n",
    "\r\n",
    "import _googlemap_key as gk # gmap_key 기입하고 사용\r\n",
    "gmaps = googlemaps.Client(key=gk.gmaps_key)"
   ],
   "outputs": [],
   "metadata": {}
  },
  {
   "cell_type": "code",
   "execution_count": null,
   "source": [
    "for idx, row in df.iterrows():\r\n",
    "    temp = gmaps.geocode(row.주소, language='ko')\r\n",
    "    print(idx)\r\n",
    "    \r\n",
    "    if len(temp) == 0:  # 위/경도 return 못할 경우\r\n",
    "        df.loc[idx,'위도'] = \"NoData\"\r\n",
    "        df.loc[idx,'경도'] = \"NoData\"\r\n",
    "        continue\r\n",
    "    else:\r\n",
    "        index = len(temp)-1\r\n",
    "        df.loc[idx,'위도']=temp[index]['geometry']['location']['lat']\r\n",
    "        df.loc[idx,'경도']=temp[index]['geometry']['location']['lng']\r\n"
   ],
   "outputs": [],
   "metadata": {}
  },
  {
   "cell_type": "code",
   "execution_count": null,
   "source": [
    "df.info()"
   ],
   "outputs": [],
   "metadata": {}
  },
  {
   "cell_type": "code",
   "execution_count": null,
   "source": [
    "SEOUL_ELSCH_INFO = df[['학교명','소재구','주소','위도','경도','1학년','6학년','전교생','1학년비율','6학년비율','6학년비율점수']]"
   ],
   "outputs": [],
   "metadata": {}
  },
  {
   "cell_type": "code",
   "execution_count": null,
   "source": [
    "SEOUL_ELSCH_INFO.columns = ['SCH_NAME', 'GU', 'ADDR', 'LAT', 'LNG', 'GRADE1', 'GRADE6', 'TOT_NUM', 'GRADE1_PROP', 'GRADE6_PROP', 'SCORE_GRADE6_PROP']"
   ],
   "outputs": [],
   "metadata": {}
  },
  {
   "cell_type": "markdown",
   "source": [
    "## 3. 서울시 초등학교 학구도"
   ],
   "metadata": {}
  },
  {
   "cell_type": "code",
   "execution_count": 8,
   "source": [
    "import geopandas as gpd\r\n",
    "import matplotlib.pyplot as plt\r\n",
    "from shapely.geometry import Polygon, LineString, Point  # shapely(공간객체 담당) # fiona(좌표담당)"
   ],
   "outputs": [],
   "metadata": {}
  },
  {
   "cell_type": "code",
   "execution_count": null,
   "source": [
    "SEOUL_ELSCH_INFO['GEOMETRY'] = SEOUL_ELSCH_INFO.apply(lambda row : Point([row['LNG'], row['LAT']]), axis=1)"
   ],
   "outputs": [],
   "metadata": {}
  },
  {
   "cell_type": "code",
   "execution_count": null,
   "source": [
    "# dataframe -> geodataframe 변환\r\n",
    "SEOUL_ELSCH_INFO = gpd.GeoDataFrame(SEOUL_ELSCH_INFO, geometry='GEOMETRY')"
   ],
   "outputs": [],
   "metadata": {}
  },
  {
   "cell_type": "code",
   "execution_count": null,
   "source": [
    "print(SEOUL_ELSCH_INFO.crs)"
   ],
   "outputs": [],
   "metadata": {}
  },
  {
   "cell_type": "code",
   "execution_count": null,
   "source": [
    "# 기본 위경도좌표는 EPSG4326\r\n",
    "SEOUL_ELSCH_INFO.crs = {'init': 'epsg:4326'}"
   ],
   "outputs": [],
   "metadata": {}
  },
  {
   "cell_type": "code",
   "execution_count": 6,
   "source": [
    "# 학구도 파일 import\r\n",
    "filename = \"초등학교학교군.shp\""
   ],
   "outputs": [],
   "metadata": {}
  },
  {
   "cell_type": "code",
   "execution_count": null,
   "source": [
    "hakgudo_all = gpd.read_file(pathX+\"\\\\\"+filename)\r\n",
    "hakgudo = hakgudo_all[hakgudo_all['EDU_UP_NM']==\"서울특별시교육청\"]\r\n",
    "hakgudo.rename(columns = {'geometry':'HAKGUDO_GEO'}, inplace=True)"
   ],
   "outputs": [],
   "metadata": {}
  },
  {
   "cell_type": "code",
   "execution_count": 10,
   "source": [
    "hakgudo.head(5)"
   ],
   "outputs": [
    {
     "output_type": "execute_result",
     "data": {
      "text/html": [
       "<div>\n",
       "<style scoped>\n",
       "    .dataframe tbody tr th:only-of-type {\n",
       "        vertical-align: middle;\n",
       "    }\n",
       "\n",
       "    .dataframe tbody tr th {\n",
       "        vertical-align: top;\n",
       "    }\n",
       "\n",
       "    .dataframe thead th {\n",
       "        text-align: right;\n",
       "    }\n",
       "</style>\n",
       "<table border=\"1\" class=\"dataframe\">\n",
       "  <thead>\n",
       "    <tr style=\"text-align: right;\">\n",
       "      <th></th>\n",
       "      <th>OBJECTID</th>\n",
       "      <th>HAKGUDO_ID</th>\n",
       "      <th>HAKGUDO_NM</th>\n",
       "      <th>HAKGUDO_GB</th>\n",
       "      <th>SD_CD</th>\n",
       "      <th>SGG_CD</th>\n",
       "      <th>EDU_UP_CD</th>\n",
       "      <th>EDU_UP_NM</th>\n",
       "      <th>EDU_CD</th>\n",
       "      <th>EDU_NM</th>\n",
       "      <th>CRE_DT</th>\n",
       "      <th>UPD_DT</th>\n",
       "      <th>BASE_DT</th>\n",
       "      <th>HAKGUDO_GEO</th>\n",
       "    </tr>\n",
       "  </thead>\n",
       "  <tbody>\n",
       "    <tr>\n",
       "      <th>145</th>\n",
       "      <td>534013</td>\n",
       "      <td>Z000100526</td>\n",
       "      <td>서울미아초통학구역</td>\n",
       "      <td>0</td>\n",
       "      <td>11</td>\n",
       "      <td>290</td>\n",
       "      <td>7010000</td>\n",
       "      <td>서울특별시교육청</td>\n",
       "      <td>7121200</td>\n",
       "      <td>서울특별시성북강북교육지원청</td>\n",
       "      <td>2016-08-12</td>\n",
       "      <td>2020-12-09</td>\n",
       "      <td>2021-03-25</td>\n",
       "      <td>POLYGON ((201912.834 555998.050, 201923.860 55...</td>\n",
       "    </tr>\n",
       "    <tr>\n",
       "      <th>146</th>\n",
       "      <td>534014</td>\n",
       "      <td>Z000100034</td>\n",
       "      <td>서울청량초통학구역</td>\n",
       "      <td>0</td>\n",
       "      <td>11</td>\n",
       "      <td>230</td>\n",
       "      <td>7010000</td>\n",
       "      <td>서울특별시교육청</td>\n",
       "      <td>7021000</td>\n",
       "      <td>서울특별시동부교육지원청</td>\n",
       "      <td>2016-08-12</td>\n",
       "      <td>2020-12-10</td>\n",
       "      <td>2021-03-25</td>\n",
       "      <td>POLYGON ((205342.235 555822.780, 205345.790 55...</td>\n",
       "    </tr>\n",
       "    <tr>\n",
       "      <th>163</th>\n",
       "      <td>534033</td>\n",
       "      <td>Z000100187</td>\n",
       "      <td>서울선곡초통학구역</td>\n",
       "      <td>0</td>\n",
       "      <td>11</td>\n",
       "      <td>350</td>\n",
       "      <td>7010000</td>\n",
       "      <td>서울특별시교육청</td>\n",
       "      <td>7051000</td>\n",
       "      <td>서울특별시북부교육지원청</td>\n",
       "      <td>2016-08-12</td>\n",
       "      <td>2020-12-10</td>\n",
       "      <td>2021-03-25</td>\n",
       "      <td>POLYGON ((205411.653 558394.285, 205417.513 55...</td>\n",
       "    </tr>\n",
       "    <tr>\n",
       "      <th>260</th>\n",
       "      <td>533655</td>\n",
       "      <td>Z000100207</td>\n",
       "      <td>서울을지초통학구역</td>\n",
       "      <td>0</td>\n",
       "      <td>11</td>\n",
       "      <td>350</td>\n",
       "      <td>7010000</td>\n",
       "      <td>서울특별시교육청</td>\n",
       "      <td>7051000</td>\n",
       "      <td>서울특별시북부교육지원청</td>\n",
       "      <td>2016-08-12</td>\n",
       "      <td>2016-08-12</td>\n",
       "      <td>2021-03-25</td>\n",
       "      <td>POLYGON ((206545.143 561234.395, 206552.023 56...</td>\n",
       "    </tr>\n",
       "    <tr>\n",
       "      <th>291</th>\n",
       "      <td>535020</td>\n",
       "      <td>Z000100057</td>\n",
       "      <td>서울북한산초통학구역</td>\n",
       "      <td>0</td>\n",
       "      <td>11</td>\n",
       "      <td>380</td>\n",
       "      <td>7010000</td>\n",
       "      <td>서울특별시교육청</td>\n",
       "      <td>7031000</td>\n",
       "      <td>서울특별시서부교육지원청</td>\n",
       "      <td>2016-08-12</td>\n",
       "      <td>2016-08-12</td>\n",
       "      <td>2021-03-25</td>\n",
       "      <td>POLYGON ((195739.485 561696.193, 195751.981 56...</td>\n",
       "    </tr>\n",
       "  </tbody>\n",
       "</table>\n",
       "</div>"
      ],
      "text/plain": [
       "     OBJECTID  HAKGUDO_ID  HAKGUDO_NM HAKGUDO_GB SD_CD SGG_CD EDU_UP_CD  \\\n",
       "145    534013  Z000100526   서울미아초통학구역          0    11    290   7010000   \n",
       "146    534014  Z000100034   서울청량초통학구역          0    11    230   7010000   \n",
       "163    534033  Z000100187   서울선곡초통학구역          0    11    350   7010000   \n",
       "260    533655  Z000100207   서울을지초통학구역          0    11    350   7010000   \n",
       "291    535020  Z000100057  서울북한산초통학구역          0    11    380   7010000   \n",
       "\n",
       "    EDU_UP_NM   EDU_CD          EDU_NM      CRE_DT      UPD_DT     BASE_DT  \\\n",
       "145  서울특별시교육청  7121200  서울특별시성북강북교육지원청  2016-08-12  2020-12-09  2021-03-25   \n",
       "146  서울특별시교육청  7021000    서울특별시동부교육지원청  2016-08-12  2020-12-10  2021-03-25   \n",
       "163  서울특별시교육청  7051000    서울특별시북부교육지원청  2016-08-12  2020-12-10  2021-03-25   \n",
       "260  서울특별시교육청  7051000    서울특별시북부교육지원청  2016-08-12  2016-08-12  2021-03-25   \n",
       "291  서울특별시교육청  7031000    서울특별시서부교육지원청  2016-08-12  2016-08-12  2021-03-25   \n",
       "\n",
       "                                           HAKGUDO_GEO  \n",
       "145  POLYGON ((201912.834 555998.050, 201923.860 55...  \n",
       "146  POLYGON ((205342.235 555822.780, 205345.790 55...  \n",
       "163  POLYGON ((205411.653 558394.285, 205417.513 55...  \n",
       "260  POLYGON ((206545.143 561234.395, 206552.023 56...  \n",
       "291  POLYGON ((195739.485 561696.193, 195751.981 56...  "
      ]
     },
     "metadata": {},
     "execution_count": 10
    }
   ],
   "metadata": {}
  },
  {
   "cell_type": "code",
   "execution_count": null,
   "source": [
    "print(hakgudo.crs, SEOUL_ELSCH_INFO.crs) # epsg:5186"
   ],
   "outputs": [],
   "metadata": {}
  },
  {
   "cell_type": "code",
   "execution_count": null,
   "source": [
    "SEOUL_ELSCH_INFO = SEOUL_ELSCH_INFO.to_crs({'init':'epsg:5186'})"
   ],
   "outputs": [],
   "metadata": {}
  },
  {
   "cell_type": "code",
   "execution_count": null,
   "source": [
    "print(SEOUL_ELSCH_INFO.SCH_NAME.count(), hakgudo.OBJECTID.count())"
   ],
   "outputs": [],
   "metadata": {}
  },
  {
   "cell_type": "code",
   "execution_count": null,
   "source": [
    "# reset index\r\n",
    "SEOUL_ELSCH_INFO.reset_index(drop=True, inplace=True)\r\n",
    "hakgudo.reset_index(drop=True, inplace=True)"
   ],
   "outputs": [],
   "metadata": {}
  },
  {
   "cell_type": "code",
   "execution_count": null,
   "source": [
    "SEOUL_ELSCH_INFO.assign(HAKGUDO_NM='')"
   ],
   "outputs": [],
   "metadata": {}
  },
  {
   "cell_type": "code",
   "execution_count": null,
   "source": [
    "for idx_s, sch in SEOUL_ELSCH_INFO.iterrows():\r\n",
    "    for idx_h, hgd in hakgudo.iterrows():\r\n",
    "        if(sch.GEOMETRY.within(hgd.HAKGUDO_GEO) == True):           \r\n",
    "            SEOUL_ELSCH_INFO.loc[idx_s,'HAKGUDO_NM'] = hgd.HAKGUDO_NM\r\n",
    "            break\r\n",
    "        else:\r\n",
    "            continue"
   ],
   "outputs": [],
   "metadata": {}
  },
  {
   "cell_type": "code",
   "execution_count": null,
   "source": [
    "# 확인용\r\n",
    "SEOUL_ELSCH_INFO[pd.isna(SEOUL_ELSCH_INFO.HAKGUDO_NM)]"
   ],
   "outputs": [],
   "metadata": {}
  },
  {
   "cell_type": "code",
   "execution_count": null,
   "source": [
    "for idx, sch in SEOUL_ELSCH_INFO.iterrows():\r\n",
    "    if(pd.isna(sch.HAKGUDO_NM)):\r\n",
    "        SEOUL_ELSCH_INFO.loc[idx,'HAKGUDO_NM'] = sch.SCH_NAME.split('등학교')[0]+\"통학구역\"\r\n",
    "    else:\r\n",
    "        continue"
   ],
   "outputs": [],
   "metadata": {}
  },
  {
   "cell_type": "code",
   "execution_count": null,
   "source": [
    "school = pd.merge(SEOUL_ELSCH_INFO, hakgudo[['HAKGUDO_NM','HAKGUDO_GEO']], on='HAKGUDO_NM', how='left')"
   ],
   "outputs": [],
   "metadata": {}
  },
  {
   "cell_type": "markdown",
   "source": [
    "# 서울시 초등학교 정보(DB ver.)"
   ],
   "metadata": {}
  },
  {
   "cell_type": "code",
   "execution_count": null,
   "source": [
    "import pymssql"
   ],
   "outputs": [],
   "metadata": {}
  },
  {
   "cell_type": "code",
   "execution_count": null,
   "source": [
    "conn = pymssql.connect(host=\"####\", user=\"####\", password=\"####\", database=\"####\", charset=\"utf8\")"
   ],
   "outputs": [],
   "metadata": {}
  },
  {
   "cell_type": "code",
   "execution_count": null,
   "source": [
    "SEOUL_ELSCH_INFO = pd.read_sql(sql= \"select * from SEOUL_ELSCH_INFO\", con=conn)"
   ],
   "outputs": [],
   "metadata": {}
  },
  {
   "cell_type": "code",
   "execution_count": null,
   "source": [
    "conn.commit()"
   ],
   "outputs": [],
   "metadata": {}
  },
  {
   "cell_type": "code",
   "execution_count": null,
   "source": [
    "# DB 연결 해제\r\n",
    "conn.close()"
   ],
   "outputs": [],
   "metadata": {}
  },
  {
   "cell_type": "markdown",
   "source": [
    "# 서울시 초등학교 정보(엑셀파일 load ver.)"
   ],
   "metadata": {}
  },
  {
   "cell_type": "code",
   "execution_count": 17,
   "source": [
    "SEOUL_ELSCH_INFO = pd.read_excel(path+\"\\\\\"+\"SEOUL_ELSCH_INFO.xlsx\",sheet_name = 0, header=0)"
   ],
   "outputs": [],
   "metadata": {}
  },
  {
   "cell_type": "code",
   "execution_count": 18,
   "source": [
    "SEOUL_ELSCH_INFO.head(2)"
   ],
   "outputs": [
    {
     "output_type": "execute_result",
     "data": {
      "text/html": [
       "<div>\n",
       "<style scoped>\n",
       "    .dataframe tbody tr th:only-of-type {\n",
       "        vertical-align: middle;\n",
       "    }\n",
       "\n",
       "    .dataframe tbody tr th {\n",
       "        vertical-align: top;\n",
       "    }\n",
       "\n",
       "    .dataframe thead th {\n",
       "        text-align: right;\n",
       "    }\n",
       "</style>\n",
       "<table border=\"1\" class=\"dataframe\">\n",
       "  <thead>\n",
       "    <tr style=\"text-align: right;\">\n",
       "      <th></th>\n",
       "      <th>SCH_NAME</th>\n",
       "      <th>GU</th>\n",
       "      <th>HAKGUDO_NM</th>\n",
       "      <th>ADDR</th>\n",
       "      <th>GRADE1</th>\n",
       "      <th>GRADE6</th>\n",
       "      <th>TOT_NUM</th>\n",
       "      <th>GRADE1_PROP</th>\n",
       "      <th>GRADE6_PROP</th>\n",
       "      <th>SCORE_GRADE6_PROP</th>\n",
       "      <th>LAT</th>\n",
       "      <th>LNG</th>\n",
       "      <th>GEOMETRY</th>\n",
       "      <th>HAKGUDO_GEO</th>\n",
       "    </tr>\n",
       "  </thead>\n",
       "  <tbody>\n",
       "    <tr>\n",
       "      <th>0</th>\n",
       "      <td>서울가곡초등학교</td>\n",
       "      <td>강서구</td>\n",
       "      <td>서울가곡초통학구역</td>\n",
       "      <td>서울특별시 강서구 공항대로36길 74 (마곡동.가곡초등학교)</td>\n",
       "      <td>108</td>\n",
       "      <td>144</td>\n",
       "      <td>816</td>\n",
       "      <td>13.235</td>\n",
       "      <td>17.647</td>\n",
       "      <td>4.412</td>\n",
       "      <td>37.555339</td>\n",
       "      <td>126.835817</td>\n",
       "      <td>POINT (185492.7699298028 550658.7554872994)</td>\n",
       "      <td>POLYGON ((186068.1481999997 550606.9287, 18604...</td>\n",
       "    </tr>\n",
       "    <tr>\n",
       "      <th>1</th>\n",
       "      <td>서울가동초등학교</td>\n",
       "      <td>송파구</td>\n",
       "      <td>서울가동초통학구역</td>\n",
       "      <td>서울특별시 송파구 중대로20길 47 (가락동)</td>\n",
       "      <td>129</td>\n",
       "      <td>150</td>\n",
       "      <td>900</td>\n",
       "      <td>14.333</td>\n",
       "      <td>16.667</td>\n",
       "      <td>2.334</td>\n",
       "      <td>37.497320</td>\n",
       "      <td>127.130219</td>\n",
       "      <td>POINT (211515.0870563909 544214.621542118)</td>\n",
       "      <td>POLYGON ((211901.8135000002 543558.6169000007,...</td>\n",
       "    </tr>\n",
       "  </tbody>\n",
       "</table>\n",
       "</div>"
      ],
      "text/plain": [
       "   SCH_NAME   GU HAKGUDO_NM                               ADDR  GRADE1  \\\n",
       "0  서울가곡초등학교  강서구  서울가곡초통학구역  서울특별시 강서구 공항대로36길 74 (마곡동.가곡초등학교)     108   \n",
       "1  서울가동초등학교  송파구  서울가동초통학구역          서울특별시 송파구 중대로20길 47 (가락동)     129   \n",
       "\n",
       "   GRADE6  TOT_NUM  GRADE1_PROP  GRADE6_PROP  SCORE_GRADE6_PROP        LAT  \\\n",
       "0     144      816       13.235       17.647              4.412  37.555339   \n",
       "1     150      900       14.333       16.667              2.334  37.497320   \n",
       "\n",
       "          LNG                                     GEOMETRY  \\\n",
       "0  126.835817  POINT (185492.7699298028 550658.7554872994)   \n",
       "1  127.130219   POINT (211515.0870563909 544214.621542118)   \n",
       "\n",
       "                                         HAKGUDO_GEO  \n",
       "0  POLYGON ((186068.1481999997 550606.9287, 18604...  \n",
       "1  POLYGON ((211901.8135000002 543558.6169000007,...  "
      ]
     },
     "metadata": {},
     "execution_count": 18
    }
   ],
   "metadata": {}
  },
  {
   "cell_type": "code",
   "execution_count": 19,
   "source": [
    "SEOUL_ELSCH_INFO.describe()"
   ],
   "outputs": [
    {
     "output_type": "execute_result",
     "data": {
      "text/html": [
       "<div>\n",
       "<style scoped>\n",
       "    .dataframe tbody tr th:only-of-type {\n",
       "        vertical-align: middle;\n",
       "    }\n",
       "\n",
       "    .dataframe tbody tr th {\n",
       "        vertical-align: top;\n",
       "    }\n",
       "\n",
       "    .dataframe thead th {\n",
       "        text-align: right;\n",
       "    }\n",
       "</style>\n",
       "<table border=\"1\" class=\"dataframe\">\n",
       "  <thead>\n",
       "    <tr style=\"text-align: right;\">\n",
       "      <th></th>\n",
       "      <th>GRADE1</th>\n",
       "      <th>GRADE6</th>\n",
       "      <th>TOT_NUM</th>\n",
       "      <th>GRADE1_PROP</th>\n",
       "      <th>GRADE6_PROP</th>\n",
       "      <th>SCORE_GRADE6_PROP</th>\n",
       "      <th>LAT</th>\n",
       "      <th>LNG</th>\n",
       "    </tr>\n",
       "  </thead>\n",
       "  <tbody>\n",
       "    <tr>\n",
       "      <th>count</th>\n",
       "      <td>562.000000</td>\n",
       "      <td>562.000000</td>\n",
       "      <td>562.000000</td>\n",
       "      <td>562.000000</td>\n",
       "      <td>562.000000</td>\n",
       "      <td>562.000000</td>\n",
       "      <td>562.000000</td>\n",
       "      <td>562.000000</td>\n",
       "    </tr>\n",
       "    <tr>\n",
       "      <th>mean</th>\n",
       "      <td>107.012456</td>\n",
       "      <td>117.788256</td>\n",
       "      <td>683.138790</td>\n",
       "      <td>15.644931</td>\n",
       "      <td>17.300831</td>\n",
       "      <td>1.655900</td>\n",
       "      <td>37.550827</td>\n",
       "      <td>126.992484</td>\n",
       "    </tr>\n",
       "    <tr>\n",
       "      <th>std</th>\n",
       "      <td>60.310204</td>\n",
       "      <td>67.123663</td>\n",
       "      <td>368.384325</td>\n",
       "      <td>2.590528</td>\n",
       "      <td>2.742032</td>\n",
       "      <td>4.685213</td>\n",
       "      <td>0.055564</td>\n",
       "      <td>0.093067</td>\n",
       "    </tr>\n",
       "    <tr>\n",
       "      <th>min</th>\n",
       "      <td>10.000000</td>\n",
       "      <td>10.000000</td>\n",
       "      <td>87.000000</td>\n",
       "      <td>7.910000</td>\n",
       "      <td>9.429000</td>\n",
       "      <td>-15.545000</td>\n",
       "      <td>37.441271</td>\n",
       "      <td>126.804403</td>\n",
       "    </tr>\n",
       "    <tr>\n",
       "      <th>25%</th>\n",
       "      <td>62.000000</td>\n",
       "      <td>69.250000</td>\n",
       "      <td>413.000000</td>\n",
       "      <td>14.116500</td>\n",
       "      <td>15.627000</td>\n",
       "      <td>-0.806250</td>\n",
       "      <td>37.504632</td>\n",
       "      <td>126.912408</td>\n",
       "    </tr>\n",
       "    <tr>\n",
       "      <th>50%</th>\n",
       "      <td>96.500000</td>\n",
       "      <td>102.000000</td>\n",
       "      <td>612.000000</td>\n",
       "      <td>15.504000</td>\n",
       "      <td>17.319000</td>\n",
       "      <td>1.615500</td>\n",
       "      <td>37.546441</td>\n",
       "      <td>127.012714</td>\n",
       "    </tr>\n",
       "    <tr>\n",
       "      <th>75%</th>\n",
       "      <td>139.000000</td>\n",
       "      <td>150.000000</td>\n",
       "      <td>884.750000</td>\n",
       "      <td>17.078750</td>\n",
       "      <td>18.836250</td>\n",
       "      <td>4.477500</td>\n",
       "      <td>37.589577</td>\n",
       "      <td>127.068025</td>\n",
       "    </tr>\n",
       "    <tr>\n",
       "      <th>max</th>\n",
       "      <td>402.000000</td>\n",
       "      <td>467.000000</td>\n",
       "      <td>2212.000000</td>\n",
       "      <td>27.146000</td>\n",
       "      <td>27.233000</td>\n",
       "      <td>17.435000</td>\n",
       "      <td>37.686930</td>\n",
       "      <td>127.179758</td>\n",
       "    </tr>\n",
       "  </tbody>\n",
       "</table>\n",
       "</div>"
      ],
      "text/plain": [
       "           GRADE1      GRADE6      TOT_NUM  GRADE1_PROP  GRADE6_PROP  \\\n",
       "count  562.000000  562.000000   562.000000   562.000000   562.000000   \n",
       "mean   107.012456  117.788256   683.138790    15.644931    17.300831   \n",
       "std     60.310204   67.123663   368.384325     2.590528     2.742032   \n",
       "min     10.000000   10.000000    87.000000     7.910000     9.429000   \n",
       "25%     62.000000   69.250000   413.000000    14.116500    15.627000   \n",
       "50%     96.500000  102.000000   612.000000    15.504000    17.319000   \n",
       "75%    139.000000  150.000000   884.750000    17.078750    18.836250   \n",
       "max    402.000000  467.000000  2212.000000    27.146000    27.233000   \n",
       "\n",
       "       SCORE_GRADE6_PROP         LAT         LNG  \n",
       "count         562.000000  562.000000  562.000000  \n",
       "mean            1.655900   37.550827  126.992484  \n",
       "std             4.685213    0.055564    0.093067  \n",
       "min           -15.545000   37.441271  126.804403  \n",
       "25%            -0.806250   37.504632  126.912408  \n",
       "50%             1.615500   37.546441  127.012714  \n",
       "75%             4.477500   37.589577  127.068025  \n",
       "max            17.435000   37.686930  127.179758  "
      ]
     },
     "metadata": {},
     "execution_count": 19
    }
   ],
   "metadata": {}
  },
  {
   "cell_type": "code",
   "execution_count": 31,
   "source": [
    "SEOUL_ELSCH_INFO.SCORE_GRADE6_PROP.describe()"
   ],
   "outputs": [
    {
     "output_type": "execute_result",
     "data": {
      "text/plain": [
       "count    562.000000\n",
       "mean       1.655900\n",
       "std        4.685213\n",
       "min      -15.545000\n",
       "25%       -0.806250\n",
       "50%        1.615500\n",
       "75%        4.477500\n",
       "max       17.435000\n",
       "Name: SCORE_GRADE6_PROP, dtype: float64"
      ]
     },
     "metadata": {},
     "execution_count": 31
    }
   ],
   "metadata": {}
  },
  {
   "cell_type": "code",
   "execution_count": 38,
   "source": [
    "plt.rc('font', family='malgun gothic')\r\n",
    "plt.rcParams['axes.unicode_minus'] = False"
   ],
   "outputs": [],
   "metadata": {}
  },
  {
   "cell_type": "code",
   "execution_count": 47,
   "source": [
    "plt.hist(SEOUL_ELSCH_INFO.SCORE_GRADE6_PROP)\r\n",
    "#plt.xlabel('X bins')\r\n",
    "#plt.ylabel('Density')\r\n",
    "plt.title('서울시 초등학교 6학년 비율 점수')\r\n",
    "#plt.axis([1.5, 4.5, 0, 1.1])\r\n",
    "plt.show()\r\n"
   ],
   "outputs": [
    {
     "output_type": "display_data",
     "data": {
      "image/png": "[encoded data removed]",
      "text/plain": [
       "<Figure size 432x288 with 1 Axes>"
      ]
     },
     "metadata": {
      "needs_background": "light"
     }
    }
   ],
   "metadata": {}
  },
  {
   "cell_type": "code",
   "execution_count": 48,
   "source": [
    "import seaborn as sns\r\n",
    "\r\n",
    "ax = sns.distplot(SEOUL_ELSCH_INFO.SCORE_GRADE6_PROP, \r\n",
    "                      hist=True, \r\n",
    "                      kde=True, \r\n",
    "                      bins=10, \r\n",
    "                      color='blue', \r\n",
    "                      hist_kws={'edgecolor': 'gray'}, \r\n",
    "                      kde_kws={'linewidth': 2})\r\n",
    "#ax.set_title('서울시 초등학교 6학년 비율 점수')\r\n",
    "ax.set_xlabel('Score')\r\n",
    "ax.set_ylabel('Density')\r\n",
    "plt.show()"
   ],
   "outputs": [
    {
     "output_type": "stream",
     "name": "stderr",
     "text": [
      "C:\\ProgramData\\Anaconda3\\lib\\site-packages\\seaborn\\distributions.py:2557: FutureWarning: `distplot` is a deprecated function and will be removed in a future version. Please adapt your code to use either `displot` (a figure-level function with similar flexibility) or `histplot` (an axes-level function for histograms).\n",
      "  warnings.warn(msg, FutureWarning)\n"
     ]
    },
    {
     "output_type": "display_data",
     "data": {
      "image/png": "[encoded data removed]",
      "text/plain": [
       "<Figure size 432x288 with 1 Axes>"
      ]
     },
     "metadata": {
      "needs_background": "light"
     }
    }
   ],
   "metadata": {}
  },
  {
   "cell_type": "code",
   "execution_count": null,
   "source": [
    "# 오차 정규성 - QQ Plot"
   ],
   "outputs": [],
   "metadata": {}
  },
  {
   "cell_type": "code",
   "execution_count": 29,
   "source": [
    "import matplotlib.pyplot as plt\r\n",
    "import statsmodels.api as sm\r\n",
    "import scipy.stats as stats\r\n",
    "\r\n",
    "rand = np.random.uniform(low=0, high=2, size=1000)\r\n",
    "\r\n",
    "fig = plt.figure(figsize=(10,5))\r\n",
    "ax = fig.add_subplot(1,1,1)\r\n",
    "sm.qqplot(SEOUL_ELSCH_INFO.SCORE_GRADE6_PROP, line='r', ax=ax)\r\n",
    "plt.show()\r\n",
    "\r\n",
    "# fig.add_subplot(111) == fig.add_subplot(1,1,1)\r\n",
    "# 111 : 1x1그리드에 첫 번째 subplot\r\n",
    "# 234 : 2x3그리드에 네 번째 subplot\r\n",
    "# nml : nxm그리그에 l번째 subplot"
   ],
   "outputs": [
    {
     "output_type": "display_data",
     "data": {
      "image/png": "[encoded data removed]",
      "text/plain": [
       "<Figure size 720x360 with 1 Axes>"
      ]
     },
     "metadata": {
      "needs_background": "light"
     }
    }
   ],
   "metadata": {}
  }
 ],
 "metadata": {
  "kernelspec": {
   "name": "python3",
   "display_name": "Python 3.8.8 64-bit"
  },
  "language_info": {
   "codemirror_mode": {
    "name": "ipython",
    "version": 3
   },
   "file_extension": ".py",
   "mimetype": "text/x-python",
   "name": "python",
   "nbconvert_exporter": "python",
   "pygments_lexer": "ipython3",
   "version": "3.8.8"
  },
  "toc": {
   "base_numbering": 1,
   "nav_menu": {},
   "number_sections": true,
   "sideBar": true,
   "skip_h1_title": false,
   "title_cell": "Table of Contents",
   "title_sidebar": "Contents",
   "toc_cell": false,
   "toc_position": {},
   "toc_section_display": true,
   "toc_window_display": false
  },
  "varInspector": {
   "cols": {
    "lenName": 16,
    "lenType": 16,
    "lenVar": 40
   },
   "kernels_config": {
    "python": {
     "delete_cmd_postfix": "",
     "delete_cmd_prefix": "del ",
     "library": "var_list.py",
     "varRefreshCmd": "print(var_dic_list())"
    },
    "r": {
     "delete_cmd_postfix": ") ",
     "delete_cmd_prefix": "rm(",
     "library": "var_list.r",
     "varRefreshCmd": "cat(var_dic_list()) "
    }
   },
   "types_to_exclude": [
    "module",
    "function",
    "builtin_function_or_method",
    "instance",
    "_Feature"
   ],
   "window_display": false
  },
  "interpreter": {
   "hash": "b3ba2566441a7c06988d0923437866b63cedc61552a5af99d1f4fb67d367b25f"
  }
 },
 "nbformat": 4,
 "nbformat_minor": 4
}