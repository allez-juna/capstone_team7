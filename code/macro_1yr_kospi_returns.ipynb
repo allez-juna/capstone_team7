{
 "cells": [
  {
   "cell_type": "code",
   "execution_count": 1,
   "source": [
    "import pandas as pd\r\n",
    "import numpy as np\r\n",
    "\r\n",
    "import matplotlib.pyplot as plt\r\n",
    "from pykrx import stock\r\n",
    "\r\n",
    "pd.options.display.float_format = '{:.5f}'.format  # 지수표현 없이 출력\r\n",
    "# pd.reset_option('display.float_format')          # 되돌리기"
   ],
   "outputs": [],
   "metadata": {}
  },
  {
   "cell_type": "code",
   "execution_count": 2,
   "source": [
    "# 20100101 ~ 20210831 KOSPI 지수\r\n",
    "df = stock.get_index_ohlcv_by_date(\"20100101\", \"20210831\", '1001') "
   ],
   "outputs": [],
   "metadata": {}
  },
  {
   "cell_type": "code",
   "execution_count": 3,
   "source": [
    "# 날짜가 index로 되어있어서 column화\r\n",
    "df = df.reset_index()"
   ],
   "outputs": [],
   "metadata": {}
  },
  {
   "cell_type": "code",
   "execution_count": 4,
   "source": [
    "# 필요 컬럼만 남기기(날짜, 종가)\r\n",
    "df = df[['날짜','종가']]"
   ],
   "outputs": [],
   "metadata": {}
  },
  {
   "cell_type": "code",
   "execution_count": 5,
   "source": [
    "# 월별 마지막 날짜(last_day) 컬럼 만들기\r\n",
    "df['yyyymm'] = df.날짜.astype(str).apply(lambda x: x.replace(\"-\",\"\")[:6])\r\n",
    "df['day'] = df.날짜.astype(str).apply(lambda x: x.replace(\"-\",\"\")[6:]).astype(int)\r\n",
    "temp = df.groupby(\"yyyymm\").day.max()\r\n",
    "temp = pd.DataFrame(temp)\r\n",
    "temp.columns = ['last_day']\r\n",
    "df = pd.merge(df,temp,on='yyyymm')"
   ],
   "outputs": [],
   "metadata": {}
  },
  {
   "cell_type": "code",
   "execution_count": 6,
   "source": [
    "# 월별 마지막 일자 데이터만 남기기\r\n",
    "df = df[df.day==df.last_day]\r\n",
    "df.reset_index(drop=True, inplace=True)"
   ],
   "outputs": [],
   "metadata": {}
  },
  {
   "cell_type": "code",
   "execution_count": 7,
   "source": [
    "# df['월수익률'] = 0.0\r\n",
    "# \r\n",
    "# for idx, data in df.iterrows() :\r\n",
    "#     if idx == 0:\r\n",
    "#         continue\r\n",
    "#     else:\r\n",
    "#         df.loc[idx,'월수익률'] = (data['종가'] / df.loc[idx-1,'종가'] - 1) * 100\r\n",
    "# \r\n",
    "# df['기간수익률'] = 0.0\r\n",
    "# \r\n",
    "# for idx, data in df.iterrows() :\r\n",
    "#     if idx < 12:\r\n",
    "#         continue\r\n",
    "#     elif df.loc[idx-12,'월수익률'] == 0.0 :\r\n",
    "#         df.loc[idx,'기간수익률'] = 0.0\r\n",
    "#     else:\r\n",
    "#         df.loc[idx,'기간수익률'] = (data['월수익률'] / df.loc[idx-12,'월수익률'] - 1) * 100\r\n",
    "\r\n",
    "# 캡스톤 프로젝트에서 사용할 2011년부터 데이터만 남기기\r\n",
    "# df = df.iloc[12:,:]\r\n",
    "# df.reset_index(drop=True, inplace=True)\r\n",
    "# KOSPI_RETURNS = df[['날짜','yyyymm','종가','월수익률','기간수익률']]\r\n",
    "# KOSPI_RETURNS.set_index('날짜',inplace=True, drop=True)\r\n",
    "# KOSPI_RETURNS.columns = ['yyyymm','close_price','m_return','one_y_returns']"
   ],
   "outputs": [],
   "metadata": {}
  },
  {
   "cell_type": "code",
   "execution_count": 8,
   "source": [
    "df['기간수익률'] = 0.0\r\n",
    "\r\n",
    "for idx, data in df.iterrows() :\r\n",
    "    if idx < 12:\r\n",
    "        continue\r\n",
    "    elif df.loc[idx-12,'종가'] == 0.0 :\r\n",
    "        df.loc[idx,'기간수익률'] = 0.0\r\n",
    "    else:\r\n",
    "        df.loc[idx,'기간수익률'] = np.log(data['종가'] / df.loc[idx-12,'종가'])   # (S_T - S_t )/S_t  or ln(S_T/S_t)  (단, T = t + 1년후시점). 지난 1년동안의 수익률.\r\n",
    "\r\n",
    "# 캡스톤 프로젝트에서 사용할 2011년부터 데이터만 남기기\r\n",
    "df = df.iloc[12:,:]\r\n",
    "df.reset_index(drop=True, inplace=True)\r\n",
    "KOSPI_RETURNS = df[['날짜','yyyymm','종가','기간수익률']]\r\n",
    "KOSPI_RETURNS.set_index('날짜',inplace=True, drop=True)\r\n",
    "KOSPI_RETURNS.columns = ['yyyymm','close_price','one_y_returns']        "
   ],
   "outputs": [],
   "metadata": {}
  },
  {
   "cell_type": "code",
   "execution_count": 9,
   "source": [
    "KOSPI_RETURNS"
   ],
   "outputs": [
    {
     "output_type": "execute_result",
     "data": {
      "text/html": [
       "<div>\n",
       "<style scoped>\n",
       "    .dataframe tbody tr th:only-of-type {\n",
       "        vertical-align: middle;\n",
       "    }\n",
       "\n",
       "    .dataframe tbody tr th {\n",
       "        vertical-align: top;\n",
       "    }\n",
       "\n",
       "    .dataframe thead th {\n",
       "        text-align: right;\n",
       "    }\n",
       "</style>\n",
       "<table border=\"1\" class=\"dataframe\">\n",
       "  <thead>\n",
       "    <tr style=\"text-align: right;\">\n",
       "      <th></th>\n",
       "      <th>yyyymm</th>\n",
       "      <th>close_price</th>\n",
       "      <th>one_y_returns</th>\n",
       "    </tr>\n",
       "    <tr>\n",
       "      <th>날짜</th>\n",
       "      <th></th>\n",
       "      <th></th>\n",
       "      <th></th>\n",
       "    </tr>\n",
       "  </thead>\n",
       "  <tbody>\n",
       "    <tr>\n",
       "      <th>2011-01-31</th>\n",
       "      <td>201101</td>\n",
       "      <td>2069.73000</td>\n",
       "      <td>0.25590</td>\n",
       "    </tr>\n",
       "    <tr>\n",
       "      <th>2011-02-28</th>\n",
       "      <td>201102</td>\n",
       "      <td>1939.30000</td>\n",
       "      <td>0.19572</td>\n",
       "    </tr>\n",
       "    <tr>\n",
       "      <th>2011-03-31</th>\n",
       "      <td>201103</td>\n",
       "      <td>2106.70000</td>\n",
       "      <td>0.21871</td>\n",
       "    </tr>\n",
       "    <tr>\n",
       "      <th>2011-04-29</th>\n",
       "      <td>201104</td>\n",
       "      <td>2192.36000</td>\n",
       "      <td>0.23020</td>\n",
       "    </tr>\n",
       "    <tr>\n",
       "      <th>2011-05-31</th>\n",
       "      <td>201105</td>\n",
       "      <td>2142.47000</td>\n",
       "      <td>0.26650</td>\n",
       "    </tr>\n",
       "    <tr>\n",
       "      <th>...</th>\n",
       "      <td>...</td>\n",
       "      <td>...</td>\n",
       "      <td>...</td>\n",
       "    </tr>\n",
       "    <tr>\n",
       "      <th>2021-04-30</th>\n",
       "      <td>202104</td>\n",
       "      <td>3147.86000</td>\n",
       "      <td>0.48015</td>\n",
       "    </tr>\n",
       "    <tr>\n",
       "      <th>2021-05-31</th>\n",
       "      <td>202105</td>\n",
       "      <td>3203.92000</td>\n",
       "      <td>0.45654</td>\n",
       "    </tr>\n",
       "    <tr>\n",
       "      <th>2021-06-30</th>\n",
       "      <td>202106</td>\n",
       "      <td>3296.68000</td>\n",
       "      <td>0.44702</td>\n",
       "    </tr>\n",
       "    <tr>\n",
       "      <th>2021-07-30</th>\n",
       "      <td>202107</td>\n",
       "      <td>3202.32000</td>\n",
       "      <td>0.35323</td>\n",
       "    </tr>\n",
       "    <tr>\n",
       "      <th>2021-08-31</th>\n",
       "      <td>202108</td>\n",
       "      <td>3199.27000</td>\n",
       "      <td>0.31870</td>\n",
       "    </tr>\n",
       "  </tbody>\n",
       "</table>\n",
       "<p>128 rows × 3 columns</p>\n",
       "</div>"
      ],
      "text/plain": [
       "            yyyymm  close_price  one_y_returns\n",
       "날짜                                            \n",
       "2011-01-31  201101   2069.73000        0.25590\n",
       "2011-02-28  201102   1939.30000        0.19572\n",
       "2011-03-31  201103   2106.70000        0.21871\n",
       "2011-04-29  201104   2192.36000        0.23020\n",
       "2011-05-31  201105   2142.47000        0.26650\n",
       "...            ...          ...            ...\n",
       "2021-04-30  202104   3147.86000        0.48015\n",
       "2021-05-31  202105   3203.92000        0.45654\n",
       "2021-06-30  202106   3296.68000        0.44702\n",
       "2021-07-30  202107   3202.32000        0.35323\n",
       "2021-08-31  202108   3199.27000        0.31870\n",
       "\n",
       "[128 rows x 3 columns]"
      ]
     },
     "metadata": {},
     "execution_count": 9
    }
   ],
   "metadata": {}
  },
  {
   "cell_type": "code",
   "execution_count": 10,
   "source": [
    "KOSPI_RETURNS.describe()"
   ],
   "outputs": [
    {
     "output_type": "execute_result",
     "data": {
      "text/html": [
       "<div>\n",
       "<style scoped>\n",
       "    .dataframe tbody tr th:only-of-type {\n",
       "        vertical-align: middle;\n",
       "    }\n",
       "\n",
       "    .dataframe tbody tr th {\n",
       "        vertical-align: top;\n",
       "    }\n",
       "\n",
       "    .dataframe thead th {\n",
       "        text-align: right;\n",
       "    }\n",
       "</style>\n",
       "<table border=\"1\" class=\"dataframe\">\n",
       "  <thead>\n",
       "    <tr style=\"text-align: right;\">\n",
       "      <th></th>\n",
       "      <th>close_price</th>\n",
       "      <th>one_y_returns</th>\n",
       "    </tr>\n",
       "  </thead>\n",
       "  <tbody>\n",
       "    <tr>\n",
       "      <th>count</th>\n",
       "      <td>128.00000</td>\n",
       "      <td>128.00000</td>\n",
       "    </tr>\n",
       "    <tr>\n",
       "      <th>mean</th>\n",
       "      <td>2153.91211</td>\n",
       "      <td>0.04708</td>\n",
       "    </tr>\n",
       "    <tr>\n",
       "      <th>std</th>\n",
       "      <td>316.52076</td>\n",
       "      <td>0.14526</td>\n",
       "    </tr>\n",
       "    <tr>\n",
       "      <th>min</th>\n",
       "      <td>1754.64000</td>\n",
       "      <td>-0.21774</td>\n",
       "    </tr>\n",
       "    <tr>\n",
       "      <th>25%</th>\n",
       "      <td>1977.58000</td>\n",
       "      <td>-0.03210</td>\n",
       "    </tr>\n",
       "    <tr>\n",
       "      <th>50%</th>\n",
       "      <td>2032.45000</td>\n",
       "      <td>0.01130</td>\n",
       "    </tr>\n",
       "    <tr>\n",
       "      <th>75%</th>\n",
       "      <td>2204.99750</td>\n",
       "      <td>0.10909</td>\n",
       "    </tr>\n",
       "    <tr>\n",
       "      <th>max</th>\n",
       "      <td>3296.68000</td>\n",
       "      <td>0.55662</td>\n",
       "    </tr>\n",
       "  </tbody>\n",
       "</table>\n",
       "</div>"
      ],
      "text/plain": [
       "       close_price  one_y_returns\n",
       "count    128.00000      128.00000\n",
       "mean    2153.91211        0.04708\n",
       "std      316.52076        0.14526\n",
       "min     1754.64000       -0.21774\n",
       "25%     1977.58000       -0.03210\n",
       "50%     2032.45000        0.01130\n",
       "75%     2204.99750        0.10909\n",
       "max     3296.68000        0.55662"
      ]
     },
     "metadata": {},
     "execution_count": 10
    }
   ],
   "metadata": {}
  },
  {
   "cell_type": "markdown",
   "source": [
    "# 시각화"
   ],
   "metadata": {}
  },
  {
   "cell_type": "code",
   "execution_count": 11,
   "source": [
    "plt.rc('font', family='malgun gothic')\r\n",
    "plt.rcParams['axes.unicode_minus'] = False "
   ],
   "outputs": [],
   "metadata": {}
  },
  {
   "cell_type": "code",
   "execution_count": 12,
   "source": [
    "plt.plot(KOSPI_RETURNS.one_y_returns)\r\n",
    "plt.title('Trailing 1-year KOSPI return')\r\n",
    "plt.xlabel('날짜')\r\n",
    "plt.ylabel('기간수익률')\r\n",
    "plt.show()"
   ],
   "outputs": [
    {
     "output_type": "display_data",
     "data": {
      "image/png": "[encoded data removed]",
      "text/plain": [
       "<Figure size 432x288 with 1 Axes>"
      ]
     },
     "metadata": {
      "needs_background": "light"
     }
    }
   ],
   "metadata": {}
  },
  {
   "cell_type": "code",
   "execution_count": 13,
   "source": [
    "plt.plot(KOSPI_RETURNS.close_price)\r\n",
    "plt.title('최근 10년 월별 Close Price Trend')\r\n",
    "plt.xlabel('날짜')\r\n",
    "plt.ylabel('Close Price')\r\n",
    "plt.show()\r\n"
   ],
   "outputs": [
    {
     "output_type": "display_data",
     "data": {
      "image/png": "[encoded data removed]",
      "text/plain": [
       "<Figure size 432x288 with 1 Axes>"
      ]
     },
     "metadata": {
      "needs_background": "light"
     }
    }
   ],
   "metadata": {}
  }
 ],
 "metadata": {
  "orig_nbformat": 4,
  "language_info": {
   "name": "python",
   "version": "3.8.8",
   "mimetype": "text/x-python",
   "codemirror_mode": {
    "name": "ipython",
    "version": 3
   },
   "pygments_lexer": "ipython3",
   "nbconvert_exporter": "python",
   "file_extension": ".py"
  },
  "kernelspec": {
   "name": "python3",
   "display_name": "Python 3.8.8 64-bit ('base': conda)"
  },
  "interpreter": {
   "hash": "b3ba2566441a7c06988d0923437866b63cedc61552a5af99d1f4fb67d367b25f"
  }
 },
 "nbformat": 4,
 "nbformat_minor": 2
}