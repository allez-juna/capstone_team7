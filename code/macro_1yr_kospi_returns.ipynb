{
 "cells": [
  {
   "cell_type": "code",
   "execution_count": 21,
   "source": [
    "import pandas as pd\r\n",
    "import numpy as np\r\n",
    "\r\n",
    "from pykrx import stock\r\n",
    "\r\n",
    "pd.options.display.float_format = '{:.5f}'.format  # 지수표현 없이 출력\r\n",
    "# pd.reset_option('display.float_format')          # 되돌리기"
   ],
   "outputs": [],
   "metadata": {}
  },
  {
   "cell_type": "code",
   "execution_count": 102,
   "source": [
    "# 20100101 ~ 20210831 KOSPI 지수\r\n",
    "df = stock.get_index_ohlcv_by_date(\"20100101\", \"20210831\", '1001') "
   ],
   "outputs": [],
   "metadata": {}
  },
  {
   "cell_type": "code",
   "execution_count": 104,
   "source": [
    "# 날짜가 index로 되어있어서 column화\r\n",
    "df = df.reset_index()"
   ],
   "outputs": [],
   "metadata": {}
  },
  {
   "cell_type": "code",
   "execution_count": 106,
   "source": [
    "# 필요 컬럼만 남기기(날짜, 종가)\r\n",
    "df = df[['날짜','종가']]"
   ],
   "outputs": [],
   "metadata": {}
  },
  {
   "cell_type": "code",
   "execution_count": null,
   "source": [
    "# 월별 마지막 날짜(last_day) 컬럼 만들기\r\n",
    "df['yyyymm'] = df.날짜.astype(str).apply(lambda x: x.replace(\"-\",\"\")[:6])\r\n",
    "df['day'] = df.날짜.astype(str).apply(lambda x: x.replace(\"-\",\"\")[6:]).astype(int)\r\n",
    "temp = df.groupby(\"yyyymm\").day.max()\r\n",
    "temp = pd.DataFrame(temp)\r\n",
    "temp.columns = ['last_day']\r\n",
    "df = pd.merge(df,temp,on='yyyymm')"
   ],
   "outputs": [],
   "metadata": {}
  },
  {
   "cell_type": "code",
   "execution_count": null,
   "source": [
    "# 월별 마지막 일자 데이터만 남기기\r\n",
    "df = df[df.day==df.last_day]\r\n",
    "df.reset_index(drop=True, inplace=True)"
   ],
   "outputs": [],
   "metadata": {}
  },
  {
   "cell_type": "code",
   "execution_count": null,
   "source": [
    "df['기간수익률'] = 0.0\r\n",
    "\r\n",
    "for idx, data in df.iterrows() :\r\n",
    "    if idx < 12:\r\n",
    "        continue\r\n",
    "    else:\r\n",
    "        df.loc[idx,'기간수익률'] = (data['종가'] / df.loc[idx-12,'종가'] - 1)"
   ],
   "outputs": [],
   "metadata": {}
  },
  {
   "cell_type": "code",
   "execution_count": null,
   "source": [
    "# 캡스톤 프로젝트에서 사용할 2011년부터 데이터만 남기기\r\n",
    "df = df.iloc[12:,:]\r\n",
    "df.reset_index(drop=True, inplace=True)\r\n",
    "KOSPI_RETURNS = df[['yyyymm','종가','기간수익률']]\r\n",
    "KOSPI_RETURNS.columns = ['yyyymm','close_price','one_y_returns']"
   ],
   "outputs": [],
   "metadata": {}
  }
 ],
 "metadata": {
  "orig_nbformat": 4,
  "language_info": {
   "name": "python",
   "version": "3.8.8",
   "mimetype": "text/x-python",
   "codemirror_mode": {
    "name": "ipython",
    "version": 3
   },
   "pygments_lexer": "ipython3",
   "nbconvert_exporter": "python",
   "file_extension": ".py"
  },
  "kernelspec": {
   "name": "python3",
   "display_name": "Python 3.8.8 64-bit"
  },
  "interpreter": {
   "hash": "b3ba2566441a7c06988d0923437866b63cedc61552a5af99d1f4fb67d367b25f"
  }
 },
 "nbformat": 4,
 "nbformat_minor": 2
}